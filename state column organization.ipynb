{
 "cells": [
  {
   "cell_type": "code",
   "execution_count": 2,
   "id": "ba1fbcc7-d2f6-408f-8566-151b07e0b61a",
   "metadata": {},
   "outputs": [],
   "source": [
    "import pandas as pd\n",
    "import numpy as np\n",
    "import seaborn as sns\n",
    "import matplotlib.pyplot as plt"
   ]
  },
  {
   "cell_type": "code",
   "execution_count": 5,
   "id": "826cf50d-d3f3-4d38-bb99-552e4cede45d",
   "metadata": {},
   "outputs": [],
   "source": [
    "df = pd.read_csv(\"student_depression_dataset.csv\")"
   ]
  },
  {
   "cell_type": "code",
   "execution_count": 7,
   "id": "d7f20286-24f4-41bd-a0f3-3adb87ee1188",
   "metadata": {},
   "outputs": [
    {
     "data": {
      "text/plain": [
       "id                                         int64\n",
       "Gender                                    object\n",
       "Age                                      float64\n",
       "City                                      object\n",
       "Profession                                object\n",
       "Academic Pressure                        float64\n",
       "Work Pressure                            float64\n",
       "CGPA                                     float64\n",
       "Study Satisfaction                       float64\n",
       "Job Satisfaction                         float64\n",
       "Sleep Duration                            object\n",
       "Dietary Habits                            object\n",
       "Degree                                    object\n",
       "Have you ever had suicidal thoughts ?     object\n",
       "Work/Study Hours                         float64\n",
       "Financial Stress                          object\n",
       "Family History of Mental Illness          object\n",
       "Depression                                 int64\n",
       "dtype: object"
      ]
     },
     "execution_count": 7,
     "metadata": {},
     "output_type": "execute_result"
    }
   ],
   "source": [
    "df.dtypes"
   ]
  },
  {
   "cell_type": "code",
   "execution_count": 10,
   "id": "847a017c-44a5-4449-8a38-6db99c1a98b8",
   "metadata": {},
   "outputs": [
    {
     "name": "stdout",
     "output_type": "stream",
     "text": [
      "id unique values:\n",
      "[     2      8     26 ... 140689 140690 140699]\n",
      "\n",
      "Gender unique values:\n",
      "['Male' 'Female']\n",
      "\n",
      "Age unique values:\n",
      "[33. 24. 31. 28. 25. 29. 30. 27. 19. 20. 23. 18. 21. 22. 34. 32. 26. 39.\n",
      " 35. 42. 36. 58. 49. 38. 51. 44. 43. 46. 59. 54. 48. 56. 37. 41.]\n",
      "\n",
      "City unique values:\n",
      "['Visakhapatnam' 'Bangalore' 'Srinagar' 'Varanasi' 'Jaipur' 'Pune' 'Thane'\n",
      " 'Chennai' 'Nagpur' 'Nashik' 'Vadodara' 'Kalyan' 'Rajkot' 'Ahmedabad'\n",
      " 'Kolkata' 'Mumbai' 'Lucknow' 'Indore' 'Surat' 'Ludhiana' 'Bhopal'\n",
      " 'Meerut' 'Agra' 'Ghaziabad' 'Hyderabad' 'Vasai-Virar' 'Kanpur' 'Patna'\n",
      " 'Faridabad' 'Delhi' 'Saanvi' 'M.Tech' 'Bhavna' \"'Less Delhi'\" 'City'\n",
      " '3.0' \"'Less than 5 Kalyan'\" 'Mira' 'Harsha' 'Vaanya' 'Gaurav' 'Harsh'\n",
      " 'Reyansh' 'Kibara' 'Rashi' 'ME' 'M.Com' 'Nalyan' 'Mihir' 'Nalini'\n",
      " 'Nandini' 'Khaziabad']\n",
      "\n",
      "Profession unique values:\n",
      "['Student' \"'Civil Engineer'\" 'Architect' \"'UX/UI Designer'\"\n",
      " \"'Digital Marketer'\" \"'Content Writer'\" \"'Educational Consultant'\"\n",
      " 'Teacher' 'Manager' 'Chef' 'Doctor' 'Lawyer' 'Entrepreneur' 'Pharmacist']\n",
      "\n",
      "Academic Pressure unique values:\n",
      "[5. 2. 3. 4. 1. 0.]\n",
      "\n",
      "Work Pressure unique values:\n",
      "[0. 5. 2.]\n",
      "\n",
      "CGPA unique values:\n",
      "[ 8.97    5.9     7.03    5.59    8.13    5.7     9.54    8.04    9.79\n",
      "  8.38    6.1     7.04    8.52    5.64    8.58    6.51    7.25    7.83\n",
      "  9.93    8.74    6.73    5.57    8.59    7.1     6.08    5.74    9.86\n",
      "  6.7     6.21    5.87    6.37    9.72    5.88    9.56    6.99    5.24\n",
      "  9.21    7.85    6.95    5.86    7.92    9.66    8.94    9.71    7.87\n",
      "  5.6     7.9     5.46    6.79    8.7     7.38    8.5     7.09    9.82\n",
      "  8.89    7.94    9.11    6.75    7.53    9.49    9.01    7.64    5.27\n",
      "  6.      9.44    5.75    7.51    9.05    6.38    8.95    9.88    5.32\n",
      "  6.27    7.7     8.1     9.59    8.96    5.51    7.43    8.79    9.95\n",
      "  5.37    6.86    8.32    9.74    5.66    7.48    8.23    8.81    6.03\n",
      "  5.56    5.68    5.14    7.61    6.17    8.17    9.87    8.75    6.16\n",
      "  9.5     7.99    5.67    8.92    6.19    5.76    6.25    5.11    5.58\n",
      "  5.65    9.89    8.03    6.61    9.41    8.64    7.21    8.28    6.04\n",
      "  9.13    8.08    9.96    5.12    8.35    7.07    9.6     9.24    8.54\n",
      "  8.78    8.93    8.91    9.04    6.83    5.85    7.74    6.41    8.9\n",
      "  7.75    7.88    5.42    7.52    7.68    8.4     9.39    6.84    5.99\n",
      "  8.62    8.53    7.47    6.78    6.42    9.92    8.39    5.89    7.22\n",
      "  6.81    9.02    9.97    9.63    9.67    5.41    7.27    6.05    6.85\n",
      "  9.33    5.81    6.53    5.98    6.02    6.74    5.26    7.72    7.39\n",
      "  8.43    9.34    5.44    5.82    5.72    8.19    8.44    8.98    9.37\n",
      "  5.8     7.28    7.6     7.91    9.17    7.46    9.43    9.91    9.36\n",
      "  5.16    7.08    9.26    8.83   10.      7.8     9.46    6.63    7.24\n",
      "  6.47    7.77    5.06    7.17    8.24    6.88    9.03    5.08    5.45\n",
      "  8.46    9.19    6.36    8.73    7.11    9.12    9.4     8.11    9.98\n",
      "  5.55    8.61    8.14    6.89    9.84    5.48    8.21    7.82    8.55\n",
      "  5.79    8.77    8.29    6.92    7.37    9.7     6.26    7.26    7.5\n",
      "  6.82    7.15    5.77    5.91    5.1     7.71    9.06    5.71    5.84\n",
      "  9.42    6.23    6.29    5.25    9.69    9.9     6.39    8.09    5.83\n",
      "  5.47    6.56    8.71    9.94    6.69    5.52    7.3     7.02    6.33\n",
      "  8.07    8.37    8.      7.79    8.65    6.28    7.35    8.69    7.12\n",
      "  7.32    7.13    5.97    5.09    6.91    6.76    6.52    7.45    8.56\n",
      "  6.5     8.63    8.27    8.49    6.59    9.29    5.3     7.06    5.38\n",
      "  6.65    9.16    8.01    8.25    8.02    8.47    7.34    8.88    7.14\n",
      "  8.42    5.17    9.1     7.49    9.85    7.42    9.31    6.35    7.\n",
      "  5.39    5.61    9.78    9.25    5.69    9.47    8.16    7.23    6.46\n",
      "  0.      8.26    6.32    6.77    8.85    5.03    7.65    5.78    6.24\n",
      "  5.35    6.06    7.78    6.64    7.0625  6.98    6.44    6.09  ]\n",
      "\n",
      "Study Satisfaction unique values:\n",
      "[2. 5. 3. 4. 1. 0.]\n",
      "\n",
      "Job Satisfaction unique values:\n",
      "[0. 3. 4. 2. 1.]\n",
      "\n",
      "Sleep Duration unique values:\n",
      "[\"'5-6 hours'\" \"'Less than 5 hours'\" \"'7-8 hours'\" \"'More than 8 hours'\"\n",
      " 'Others']\n",
      "\n",
      "Dietary Habits unique values:\n",
      "['Healthy' 'Moderate' 'Unhealthy' 'Others']\n",
      "\n",
      "Degree unique values:\n",
      "['B.Pharm' 'BSc' 'BA' 'BCA' 'M.Tech' 'PhD' \"'Class 12'\" 'B.Ed' 'LLB' 'BE'\n",
      " 'M.Ed' 'MSc' 'BHM' 'M.Pharm' 'MCA' 'MA' 'B.Com' 'MD' 'MBA' 'MBBS' 'M.Com'\n",
      " 'B.Arch' 'LLM' 'B.Tech' 'BBA' 'ME' 'MHM' 'Others']\n",
      "\n",
      "Have you ever had suicidal thoughts ? unique values:\n",
      "['Yes' 'No']\n",
      "\n",
      "Work/Study Hours unique values:\n",
      "[ 3.  9.  4.  1.  0. 12.  2. 11. 10.  6.  8.  5.  7.]\n",
      "\n",
      "Financial Stress unique values:\n",
      "['1.0' '2.0' '5.0' '3.0' '4.0' '?']\n",
      "\n",
      "Family History of Mental Illness unique values:\n",
      "['No' 'Yes']\n",
      "\n",
      "Depression unique values:\n",
      "[1 0]\n",
      "\n"
     ]
    }
   ],
   "source": [
    "for col in df.columns:\n",
    "    print(f\"{col} unique values:\\n{df[col].unique()}\\n\")"
   ]
  },
  {
   "cell_type": "markdown",
   "id": "8926a6d6-c213-4594-8b57-440208cada8f",
   "metadata": {},
   "source": [
    "- City has invalid values ['M.Tech', \"'Less Delhi'\", 'City', '3.0', \"'Less than 5 Kalyan'\", 'ME', 'M.Com']\n",
    "\n",
    "- Sleep_duration has invalid value(s) ['Others']\n",
    "\n",
    "- Dietary Habits has invalid value(s) ['Others']\n",
    "\n",
    "- Degree has invalid value(s) ['Others']\n",
    "\n",
    "- Financial Stress has invalid value(s) ['?'], Financial stress also needs to be integer column instead of Object type."
   ]
  },
  {
   "cell_type": "code",
   "execution_count": 14,
   "id": "e9530963-dae8-4966-b0c0-54218d5db9cb",
   "metadata": {},
   "outputs": [],
   "source": [
    "def show_invalid_entries(df, column, invalid_list, after=False):\n",
    "    invalid_entries = df[df[column].isin(invalid_list)]\n",
    "    if after:\n",
    "        print(f\"After cleaning — number of invalid {column} entries: {len(invalid_entries)}\")\n",
    "    else:\n",
    "        print(f\"Number of invalid {column} entries: {len(invalid_entries)}\")\n",
    "    print(invalid_entries[column].value_counts())"
   ]
  },
  {
   "cell_type": "code",
   "execution_count": 16,
   "id": "c6161cb7-69ae-40ed-9ffe-588d2e93a9bf",
   "metadata": {},
   "outputs": [
    {
     "name": "stdout",
     "output_type": "stream",
     "text": [
      "Number of invalid City entries: 8\n",
      "City\n",
      "City                    2\n",
      "M.Tech                  1\n",
      "'Less Delhi'            1\n",
      "3.0                     1\n",
      "'Less than 5 Kalyan'    1\n",
      "ME                      1\n",
      "M.Com                   1\n",
      "Name: count, dtype: int64\n"
     ]
    }
   ],
   "source": [
    "invalid_cities = ['M.Tech', \"'Less Delhi'\", 'City', '3.0', \"'Less than 5 Kalyan'\", 'ME', 'M.Com']\n",
    "\n",
    "show_invalid_entries(df, 'City', invalid_cities)"
   ]
  },
  {
   "cell_type": "markdown",
   "id": "f96305d4-6ea3-4ef4-9190-32c336658e34",
   "metadata": {},
   "source": [
    "\n",
    "\n",
    "\n",
    "#### invalid cities has unnecessary quotes"
   ]
  },
  {
   "cell_type": "code",
   "execution_count": 18,
   "id": "95bc3aa6-be12-4939-8319-36809b52b6e8",
   "metadata": {},
   "outputs": [],
   "source": [
    "invalid_cities_cleaned = [city.strip(\"'\") for city in invalid_cities]"
   ]
  },
  {
   "cell_type": "code",
   "execution_count": 20,
   "id": "18798167-661a-4ce5-8c80-944937c3f70a",
   "metadata": {},
   "outputs": [
    {
     "data": {
      "text/plain": [
       "['M.Tech', 'Less Delhi', 'City', '3.0', 'Less than 5 Kalyan', 'ME', 'M.Com']"
      ]
     },
     "execution_count": 20,
     "metadata": {},
     "output_type": "execute_result"
    }
   ],
   "source": [
    "invalid_cities_cleaned"
   ]
  },
  {
   "cell_type": "code",
   "execution_count": 22,
   "id": "6004a58e-056e-44b6-a398-e11267449152",
   "metadata": {},
   "outputs": [],
   "source": [
    "mode_city = df[~df['City'].isin(invalid_cities_cleaned)]['City'].mode().iloc[0]\n",
    "df['City'] = df['City'].apply(lambda x: mode_city if x in invalid_cities_cleaned else x)\n",
    "\n",
    "df['City'] = df['City'].replace(\"'Less Delhi'\", 'Delhi')\n",
    "df['City'] = df['City'].replace(\"'Less than 5 Kalyan'\", 'Kalyan')"
   ]
  },
  {
   "cell_type": "code",
   "execution_count": 40,
   "id": "5e8829af-8f40-472e-8414-79650373f8ef",
   "metadata": {},
   "outputs": [
    {
     "name": "stdout",
     "output_type": "stream",
     "text": [
      "After cleaning — number of invalid City entries: 0\n",
      "Series([], Name: count, dtype: int64)\n"
     ]
    }
   ],
   "source": [
    "show_invalid_entries(df, 'City', invalid_cities, after = True)"
   ]
  },
  {
   "cell_type": "code",
   "execution_count": 26,
   "id": "82d8ca81-e43e-414e-9d0b-ffbdd3c810a3",
   "metadata": {},
   "outputs": [
    {
     "name": "stdout",
     "output_type": "stream",
     "text": [
      "Number of invalid Sleep Duration entries: 18\n",
      "Sleep Duration\n",
      "Others    18\n",
      "Name: count, dtype: int64\n"
     ]
    }
   ],
   "source": [
    "invalid_sleep_list = ['Others']\n",
    "show_invalid_entries(df, \"Sleep Duration\", invalid_sleep_list)"
   ]
  },
  {
   "cell_type": "code",
   "execution_count": 28,
   "id": "3807d115-e440-4e83-88d6-50698591f0d8",
   "metadata": {},
   "outputs": [],
   "source": [
    "mode_sleep = df[df['Sleep Duration'] != 'Others']['Sleep Duration'].mode().iloc[0]\n",
    "df['Sleep Duration'] = df['Sleep Duration'].replace('Others', mode_sleep)"
   ]
  },
  {
   "cell_type": "code",
   "execution_count": 38,
   "id": "5ec33718-b327-4de2-8641-fac120aca8db",
   "metadata": {},
   "outputs": [
    {
     "name": "stdout",
     "output_type": "stream",
     "text": [
      "After cleaning — number of invalid Sleep Duration entries: 0\n",
      "Series([], Name: count, dtype: int64)\n"
     ]
    }
   ],
   "source": [
    "show_invalid_entries(df, \"Sleep Duration\", invalid_sleep_list, after=True)"
   ]
  },
  {
   "cell_type": "code",
   "execution_count": 32,
   "id": "b696f734-0317-442f-a98f-a2e601f87d8a",
   "metadata": {},
   "outputs": [
    {
     "name": "stdout",
     "output_type": "stream",
     "text": [
      "Number of invalid Dietary Habits entries: 12\n",
      "Dietary Habits\n",
      "Others    12\n",
      "Name: count, dtype: int64\n"
     ]
    }
   ],
   "source": [
    "invalid_diet_list = ['Others']\n",
    "show_invalid_entries(df, \"Dietary Habits\", invalid_diet_list)"
   ]
  },
  {
   "cell_type": "code",
   "execution_count": 34,
   "id": "fe0c5bb4-adf9-414d-94b5-77d44e86cce0",
   "metadata": {},
   "outputs": [],
   "source": [
    "mode_sleep = df[df['Dietary Habits'] != 'Others']['Dietary Habits'].mode().iloc[0]\n",
    "df['Dietary Habits'] = df['Dietary Habits'].replace('Others', mode_sleep)"
   ]
  },
  {
   "cell_type": "code",
   "execution_count": 42,
   "id": "4ed193f1-34d2-4edc-8e07-91c2bdb34d7a",
   "metadata": {},
   "outputs": [
    {
     "name": "stdout",
     "output_type": "stream",
     "text": [
      "After cleaning — number of invalid Dietary Habits entries: 0\n",
      "Series([], Name: count, dtype: int64)\n"
     ]
    }
   ],
   "source": [
    "show_invalid_entries(df, \"Dietary Habits\", invalid_diet_list, after=True)"
   ]
  },
  {
   "cell_type": "code",
   "execution_count": 44,
   "id": "333d0225-03e6-49b8-9eea-bed6f7b91fb9",
   "metadata": {},
   "outputs": [
    {
     "name": "stdout",
     "output_type": "stream",
     "text": [
      "Number of invalid Degree entries: 35\n",
      "Degree\n",
      "Others    35\n",
      "Name: count, dtype: int64\n"
     ]
    }
   ],
   "source": [
    "invalid_degree_list = ['Others']\n",
    "show_invalid_entries(df, \"Degree\", invalid_degree_list)"
   ]
  },
  {
   "cell_type": "code",
   "execution_count": 46,
   "id": "32e5ca90-c49e-41a6-8f91-ecd4517a5129",
   "metadata": {},
   "outputs": [],
   "source": [
    "mode_sleep = df[df['Degree'] != 'Others']['Degree'].mode().iloc[0]\n",
    "df['Degree'] = df['Degree'].replace('Others', mode_sleep)"
   ]
  },
  {
   "cell_type": "code",
   "execution_count": 48,
   "id": "c597ad9f-338e-4460-b6ab-a5fe40fa775f",
   "metadata": {},
   "outputs": [
    {
     "name": "stdout",
     "output_type": "stream",
     "text": [
      "After cleaning — number of invalid Degree entries: 0\n",
      "Series([], Name: count, dtype: int64)\n"
     ]
    }
   ],
   "source": [
    "show_invalid_entries(df, \"Degree\", invalid_degree_list, after=True)"
   ]
  },
  {
   "cell_type": "code",
   "execution_count": 50,
   "id": "a9f9c174-9dd1-45ec-9901-8e8f81910ced",
   "metadata": {},
   "outputs": [
    {
     "name": "stdout",
     "output_type": "stream",
     "text": [
      "Number of invalid Financial Stress entries: 3\n",
      "Financial Stress\n",
      "?    3\n",
      "Name: count, dtype: int64\n"
     ]
    }
   ],
   "source": [
    "invalid_financial_list = ['?']\n",
    "show_invalid_entries(df, \"Financial Stress\", invalid_financial_list)"
   ]
  },
  {
   "cell_type": "code",
   "execution_count": 52,
   "id": "121ccb7c-c38d-454f-ae16-85085518bb09",
   "metadata": {},
   "outputs": [],
   "source": [
    "mode_Financial = df[df['Financial Stress'] != 'Others']['Financial Stress'].mode().iloc[0]\n",
    "# Replace 'Other' with the mode value\n",
    "df['Financial Stress'] = df['Financial Stress'].replace('?', mode_Financial)"
   ]
  },
  {
   "cell_type": "code",
   "execution_count": 54,
   "id": "f179b568-59e6-4a41-b1f7-51d2e238e9bd",
   "metadata": {},
   "outputs": [
    {
     "name": "stdout",
     "output_type": "stream",
     "text": [
      "After cleaning — number of invalid Financial Stress entries: 0\n",
      "Series([], Name: count, dtype: int64)\n"
     ]
    }
   ],
   "source": [
    "show_invalid_entries(df, \"Financial Stress\", invalid_financial_list, after=True)"
   ]
  },
  {
   "cell_type": "markdown",
   "id": "3158d786-12f9-4ee0-8ba3-b37b1205b262",
   "metadata": {},
   "source": [
    "## state column organization"
   ]
  },
  {
   "cell_type": "code",
   "execution_count": 4,
   "id": "91594daa-0550-48ea-8c73-bd6193733502",
   "metadata": {},
   "outputs": [
    {
     "data": {
      "text/html": [
       "<div>\n",
       "<style scoped>\n",
       "    .dataframe tbody tr th:only-of-type {\n",
       "        vertical-align: middle;\n",
       "    }\n",
       "\n",
       "    .dataframe tbody tr th {\n",
       "        vertical-align: top;\n",
       "    }\n",
       "\n",
       "    .dataframe thead th {\n",
       "        text-align: right;\n",
       "    }\n",
       "</style>\n",
       "<table border=\"1\" class=\"dataframe\">\n",
       "  <thead>\n",
       "    <tr style=\"text-align: right;\">\n",
       "      <th></th>\n",
       "      <th>id</th>\n",
       "      <th>Gender</th>\n",
       "      <th>Age</th>\n",
       "      <th>City</th>\n",
       "      <th>Profession</th>\n",
       "      <th>Academic Pressure</th>\n",
       "      <th>Work Pressure</th>\n",
       "      <th>CGPA</th>\n",
       "      <th>Study Satisfaction</th>\n",
       "      <th>Job Satisfaction</th>\n",
       "      <th>Sleep Duration</th>\n",
       "      <th>Dietary Habits</th>\n",
       "      <th>Degree</th>\n",
       "      <th>Have you ever had suicidal thoughts ?</th>\n",
       "      <th>Work/Study Hours</th>\n",
       "      <th>Financial Stress</th>\n",
       "      <th>Family History of Mental Illness</th>\n",
       "      <th>Depression</th>\n",
       "    </tr>\n",
       "  </thead>\n",
       "  <tbody>\n",
       "    <tr>\n",
       "      <th>0</th>\n",
       "      <td>2</td>\n",
       "      <td>Male</td>\n",
       "      <td>33.0</td>\n",
       "      <td>Visakhapatnam</td>\n",
       "      <td>Student</td>\n",
       "      <td>5.0</td>\n",
       "      <td>0.0</td>\n",
       "      <td>8.97</td>\n",
       "      <td>2.0</td>\n",
       "      <td>0.0</td>\n",
       "      <td>'5-6 hours'</td>\n",
       "      <td>Healthy</td>\n",
       "      <td>B.Pharm</td>\n",
       "      <td>Yes</td>\n",
       "      <td>3.0</td>\n",
       "      <td>1</td>\n",
       "      <td>No</td>\n",
       "      <td>1</td>\n",
       "    </tr>\n",
       "    <tr>\n",
       "      <th>1</th>\n",
       "      <td>8</td>\n",
       "      <td>Female</td>\n",
       "      <td>24.0</td>\n",
       "      <td>Bangalore</td>\n",
       "      <td>Student</td>\n",
       "      <td>2.0</td>\n",
       "      <td>0.0</td>\n",
       "      <td>5.90</td>\n",
       "      <td>5.0</td>\n",
       "      <td>0.0</td>\n",
       "      <td>'5-6 hours'</td>\n",
       "      <td>Moderate</td>\n",
       "      <td>BSc</td>\n",
       "      <td>No</td>\n",
       "      <td>3.0</td>\n",
       "      <td>2</td>\n",
       "      <td>Yes</td>\n",
       "      <td>0</td>\n",
       "    </tr>\n",
       "    <tr>\n",
       "      <th>2</th>\n",
       "      <td>26</td>\n",
       "      <td>Male</td>\n",
       "      <td>31.0</td>\n",
       "      <td>Srinagar</td>\n",
       "      <td>Student</td>\n",
       "      <td>3.0</td>\n",
       "      <td>0.0</td>\n",
       "      <td>7.03</td>\n",
       "      <td>5.0</td>\n",
       "      <td>0.0</td>\n",
       "      <td>'Less than 5 hours'</td>\n",
       "      <td>Healthy</td>\n",
       "      <td>BA</td>\n",
       "      <td>No</td>\n",
       "      <td>9.0</td>\n",
       "      <td>1</td>\n",
       "      <td>Yes</td>\n",
       "      <td>0</td>\n",
       "    </tr>\n",
       "    <tr>\n",
       "      <th>3</th>\n",
       "      <td>30</td>\n",
       "      <td>Female</td>\n",
       "      <td>28.0</td>\n",
       "      <td>Varanasi</td>\n",
       "      <td>Student</td>\n",
       "      <td>3.0</td>\n",
       "      <td>0.0</td>\n",
       "      <td>5.59</td>\n",
       "      <td>2.0</td>\n",
       "      <td>0.0</td>\n",
       "      <td>'7-8 hours'</td>\n",
       "      <td>Moderate</td>\n",
       "      <td>BCA</td>\n",
       "      <td>Yes</td>\n",
       "      <td>4.0</td>\n",
       "      <td>5</td>\n",
       "      <td>Yes</td>\n",
       "      <td>1</td>\n",
       "    </tr>\n",
       "    <tr>\n",
       "      <th>4</th>\n",
       "      <td>32</td>\n",
       "      <td>Female</td>\n",
       "      <td>25.0</td>\n",
       "      <td>Jaipur</td>\n",
       "      <td>Student</td>\n",
       "      <td>4.0</td>\n",
       "      <td>0.0</td>\n",
       "      <td>8.13</td>\n",
       "      <td>3.0</td>\n",
       "      <td>0.0</td>\n",
       "      <td>'5-6 hours'</td>\n",
       "      <td>Moderate</td>\n",
       "      <td>M.Tech</td>\n",
       "      <td>Yes</td>\n",
       "      <td>1.0</td>\n",
       "      <td>1</td>\n",
       "      <td>No</td>\n",
       "      <td>0</td>\n",
       "    </tr>\n",
       "  </tbody>\n",
       "</table>\n",
       "</div>"
      ],
      "text/plain": [
       "   id  Gender   Age           City Profession  Academic Pressure  \\\n",
       "0   2    Male  33.0  Visakhapatnam    Student                5.0   \n",
       "1   8  Female  24.0      Bangalore    Student                2.0   \n",
       "2  26    Male  31.0       Srinagar    Student                3.0   \n",
       "3  30  Female  28.0       Varanasi    Student                3.0   \n",
       "4  32  Female  25.0         Jaipur    Student                4.0   \n",
       "\n",
       "   Work Pressure  CGPA  Study Satisfaction  Job Satisfaction  \\\n",
       "0            0.0  8.97                 2.0               0.0   \n",
       "1            0.0  5.90                 5.0               0.0   \n",
       "2            0.0  7.03                 5.0               0.0   \n",
       "3            0.0  5.59                 2.0               0.0   \n",
       "4            0.0  8.13                 3.0               0.0   \n",
       "\n",
       "        Sleep Duration Dietary Habits   Degree  \\\n",
       "0          '5-6 hours'        Healthy  B.Pharm   \n",
       "1          '5-6 hours'       Moderate      BSc   \n",
       "2  'Less than 5 hours'        Healthy       BA   \n",
       "3          '7-8 hours'       Moderate      BCA   \n",
       "4          '5-6 hours'       Moderate   M.Tech   \n",
       "\n",
       "  Have you ever had suicidal thoughts ?  Work/Study Hours  Financial Stress  \\\n",
       "0                                   Yes               3.0                 1   \n",
       "1                                    No               3.0                 2   \n",
       "2                                    No               9.0                 1   \n",
       "3                                   Yes               4.0                 5   \n",
       "4                                   Yes               1.0                 1   \n",
       "\n",
       "  Family History of Mental Illness  Depression  \n",
       "0                               No           1  \n",
       "1                              Yes           0  \n",
       "2                              Yes           0  \n",
       "3                              Yes           1  \n",
       "4                               No           0  "
      ]
     },
     "execution_count": 4,
     "metadata": {},
     "output_type": "execute_result"
    }
   ],
   "source": [
    "import pandas as pd\n",
    "\n",
    "# Loading cleaned dataset\n",
    "df = pd.read_csv(\"clean_file.csv\")  # make sure the file is in the same folder as your notebook\n",
    "\n",
    "# Quick check\n",
    "df.head()"
   ]
  },
  {
   "cell_type": "code",
   "execution_count": 8,
   "id": "a76b2d2c-de48-4769-ae26-6e0c59d2da39",
   "metadata": {},
   "outputs": [],
   "source": [
    "# Mapping of valid cities to their respective Indian states\n",
    "city_to_state = {\n",
    "    'Agra': 'Uttar Pradesh',\n",
    "    'Ahmedabad': 'Gujarat',\n",
    "    'Bangalore': 'Karnataka',\n",
    "    'Bhopal': 'Madhya Pradesh',\n",
    "    'Chennai': 'Tamil Nadu',\n",
    "    'Delhi': 'Delhi',\n",
    "    'Faridabad': 'Haryana',\n",
    "    'Ghaziabad': 'Uttar Pradesh',\n",
    "    'Hyderabad': 'Telangana',\n",
    "    'Indore': 'Madhya Pradesh',\n",
    "    'Jaipur': 'Rajasthan',\n",
    "    'Kalyan': 'Maharashtra',\n",
    "    'Kanpur': 'Uttar Pradesh',\n",
    "    'Kolkata': 'West Bengal',\n",
    "    'Lucknow': 'Uttar Pradesh',\n",
    "    'Ludhiana': 'Punjab',\n",
    "    'Meerut': 'Uttar Pradesh',\n",
    "    'Mumbai': 'Maharashtra',\n",
    "    'Nagpur': 'Maharashtra',\n",
    "    'Nashik': 'Maharashtra',\n",
    "    'Patna': 'Bihar',\n",
    "    'Pune': 'Maharashtra',\n",
    "    'Rajkot': 'Gujarat',\n",
    "    'Srinagar': 'Jammu and Kashmir',\n",
    "    'Surat': 'Gujarat',\n",
    "    'Thane': 'Maharashtra',\n",
    "    'Vadodara': 'Gujarat',\n",
    "    'Varanasi': 'Uttar Pradesh',\n",
    "    'Vasai-Virar': 'Maharashtra',\n",
    "    'Visakhapatnam': 'Andhra Pradesh',\n",
    "}"
   ]
  },
  {
   "cell_type": "code",
   "execution_count": 16,
   "id": "0e212705-23fa-4aa7-a987-e316e033f77d",
   "metadata": {},
   "outputs": [],
   "source": [
    "# Creating a new column using the mapping\n",
    "df['State'] = df['City'].map(city_to_state)"
   ]
  },
  {
   "cell_type": "code",
   "execution_count": 14,
   "id": "6bd16df6-ac96-4d4b-b5be-ec33db84edab",
   "metadata": {},
   "outputs": [
    {
     "data": {
      "text/html": [
       "<div>\n",
       "<style scoped>\n",
       "    .dataframe tbody tr th:only-of-type {\n",
       "        vertical-align: middle;\n",
       "    }\n",
       "\n",
       "    .dataframe tbody tr th {\n",
       "        vertical-align: top;\n",
       "    }\n",
       "\n",
       "    .dataframe thead th {\n",
       "        text-align: right;\n",
       "    }\n",
       "</style>\n",
       "<table border=\"1\" class=\"dataframe\">\n",
       "  <thead>\n",
       "    <tr style=\"text-align: right;\">\n",
       "      <th></th>\n",
       "      <th>City</th>\n",
       "      <th>State</th>\n",
       "    </tr>\n",
       "  </thead>\n",
       "  <tbody>\n",
       "    <tr>\n",
       "      <th>0</th>\n",
       "      <td>Visakhapatnam</td>\n",
       "      <td>Andhra Pradesh</td>\n",
       "    </tr>\n",
       "    <tr>\n",
       "      <th>1</th>\n",
       "      <td>Bangalore</td>\n",
       "      <td>Karnataka</td>\n",
       "    </tr>\n",
       "    <tr>\n",
       "      <th>2</th>\n",
       "      <td>Srinagar</td>\n",
       "      <td>Jammu and Kashmir</td>\n",
       "    </tr>\n",
       "    <tr>\n",
       "      <th>3</th>\n",
       "      <td>Varanasi</td>\n",
       "      <td>Uttar Pradesh</td>\n",
       "    </tr>\n",
       "    <tr>\n",
       "      <th>4</th>\n",
       "      <td>Jaipur</td>\n",
       "      <td>Rajasthan</td>\n",
       "    </tr>\n",
       "    <tr>\n",
       "      <th>5</th>\n",
       "      <td>Pune</td>\n",
       "      <td>Maharashtra</td>\n",
       "    </tr>\n",
       "    <tr>\n",
       "      <th>6</th>\n",
       "      <td>Thane</td>\n",
       "      <td>Maharashtra</td>\n",
       "    </tr>\n",
       "    <tr>\n",
       "      <th>7</th>\n",
       "      <td>Chennai</td>\n",
       "      <td>Tamil Nadu</td>\n",
       "    </tr>\n",
       "    <tr>\n",
       "      <th>8</th>\n",
       "      <td>Nagpur</td>\n",
       "      <td>Maharashtra</td>\n",
       "    </tr>\n",
       "    <tr>\n",
       "      <th>9</th>\n",
       "      <td>Nashik</td>\n",
       "      <td>Maharashtra</td>\n",
       "    </tr>\n",
       "  </tbody>\n",
       "</table>\n",
       "</div>"
      ],
      "text/plain": [
       "            City              State\n",
       "0  Visakhapatnam     Andhra Pradesh\n",
       "1      Bangalore          Karnataka\n",
       "2       Srinagar  Jammu and Kashmir\n",
       "3       Varanasi      Uttar Pradesh\n",
       "4         Jaipur          Rajasthan\n",
       "5           Pune        Maharashtra\n",
       "6          Thane        Maharashtra\n",
       "7        Chennai         Tamil Nadu\n",
       "8         Nagpur        Maharashtra\n",
       "9         Nashik        Maharashtra"
      ]
     },
     "execution_count": 14,
     "metadata": {},
     "output_type": "execute_result"
    }
   ],
   "source": [
    "# Previewing the new State column with the corresponding City\n",
    "df[['City', 'State']].head(10)"
   ]
  },
  {
   "cell_type": "code",
   "execution_count": 18,
   "id": "9a45a1ca-cdcf-4824-8166-68e207fcb225",
   "metadata": {},
   "outputs": [],
   "source": [
    "# Filling missing state values with 'Unknown' if any cities were not mapped\n",
    "df['State'] = df['State'].fillna('Unknown')"
   ]
  },
  {
   "cell_type": "code",
   "execution_count": null,
   "id": "c19ebe0e-fa1d-40a3-aa03-1f993f5a1d68",
   "metadata": {},
   "outputs": [],
   "source": []
  }
 ],
 "metadata": {
  "kernelspec": {
   "display_name": "Python 3 (ipykernel)",
   "language": "python",
   "name": "python3"
  },
  "language_info": {
   "codemirror_mode": {
    "name": "ipython",
    "version": 3
   },
   "file_extension": ".py",
   "mimetype": "text/x-python",
   "name": "python",
   "nbconvert_exporter": "python",
   "pygments_lexer": "ipython3",
   "version": "3.12.4"
  }
 },
 "nbformat": 4,
 "nbformat_minor": 5
}
