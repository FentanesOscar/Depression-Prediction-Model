{
 "cells": [
  {
   "cell_type": "code",
   "execution_count": 1,
   "id": "314504ad-3cd1-4c1e-914e-6de099c21215",
   "metadata": {},
   "outputs": [],
   "source": [
    "import pandas as pd\n",
    "import matplotlib.pyplot as plt\n",
    "from sklearn.model_selection import train_test_split\n",
    "from sklearn.metrics import classification_report\n",
    "from xgboost import XGBClassifier\n",
    "from sklearn.preprocessing import OneHotEncoder\n",
    "from sklearn.metrics import confusion_matrix, ConfusionMatrixDisplay\n",
    "from sklearn.ensemble import RandomForestClassifier\n",
    "from sklearn.model_selection import GridSearchCV\n",
    "from imblearn.pipeline import Pipeline\n",
    "from sklearn.base import clone\n",
    "from imblearn.over_sampling import SMOTE\n",
    "from sklearn.model_selection import StratifiedKFold\n",
    "from sklearn.metrics import recall_score, accuracy_score\n",
    "import numpy as np\n",
    "import joblib\n",
    "from sklearn.model_selection import cross_val_score, StratifiedKFold"
   ]
  },
  {
   "cell_type": "code",
   "execution_count": 3,
   "id": "6e1a6b11-02ed-4a8e-87e3-d366ca2c3e9d",
   "metadata": {},
   "outputs": [
    {
     "ename": "FileNotFoundError",
     "evalue": "[Errno 2] No such file or directory: 'Modeling_4-23.csv'",
     "output_type": "error",
     "traceback": [
      "\u001b[0;31m---------------------------------------------------------------------------\u001b[0m",
      "\u001b[0;31mFileNotFoundError\u001b[0m                         Traceback (most recent call last)",
      "Cell \u001b[0;32mIn[3], line 1\u001b[0m\n\u001b[0;32m----> 1\u001b[0m df \u001b[38;5;241m=\u001b[39m pd\u001b[38;5;241m.\u001b[39mread_csv(\u001b[38;5;124m\"\u001b[39m\u001b[38;5;124mModeling_4-23.csv\u001b[39m\u001b[38;5;124m\"\u001b[39m)\n",
      "File \u001b[0;32m/opt/anaconda3/lib/python3.12/site-packages/pandas/io/parsers/readers.py:1026\u001b[0m, in \u001b[0;36mread_csv\u001b[0;34m(filepath_or_buffer, sep, delimiter, header, names, index_col, usecols, dtype, engine, converters, true_values, false_values, skipinitialspace, skiprows, skipfooter, nrows, na_values, keep_default_na, na_filter, verbose, skip_blank_lines, parse_dates, infer_datetime_format, keep_date_col, date_parser, date_format, dayfirst, cache_dates, iterator, chunksize, compression, thousands, decimal, lineterminator, quotechar, quoting, doublequote, escapechar, comment, encoding, encoding_errors, dialect, on_bad_lines, delim_whitespace, low_memory, memory_map, float_precision, storage_options, dtype_backend)\u001b[0m\n\u001b[1;32m   1013\u001b[0m kwds_defaults \u001b[38;5;241m=\u001b[39m _refine_defaults_read(\n\u001b[1;32m   1014\u001b[0m     dialect,\n\u001b[1;32m   1015\u001b[0m     delimiter,\n\u001b[0;32m   (...)\u001b[0m\n\u001b[1;32m   1022\u001b[0m     dtype_backend\u001b[38;5;241m=\u001b[39mdtype_backend,\n\u001b[1;32m   1023\u001b[0m )\n\u001b[1;32m   1024\u001b[0m kwds\u001b[38;5;241m.\u001b[39mupdate(kwds_defaults)\n\u001b[0;32m-> 1026\u001b[0m \u001b[38;5;28;01mreturn\u001b[39;00m _read(filepath_or_buffer, kwds)\n",
      "File \u001b[0;32m/opt/anaconda3/lib/python3.12/site-packages/pandas/io/parsers/readers.py:620\u001b[0m, in \u001b[0;36m_read\u001b[0;34m(filepath_or_buffer, kwds)\u001b[0m\n\u001b[1;32m    617\u001b[0m _validate_names(kwds\u001b[38;5;241m.\u001b[39mget(\u001b[38;5;124m\"\u001b[39m\u001b[38;5;124mnames\u001b[39m\u001b[38;5;124m\"\u001b[39m, \u001b[38;5;28;01mNone\u001b[39;00m))\n\u001b[1;32m    619\u001b[0m \u001b[38;5;66;03m# Create the parser.\u001b[39;00m\n\u001b[0;32m--> 620\u001b[0m parser \u001b[38;5;241m=\u001b[39m TextFileReader(filepath_or_buffer, \u001b[38;5;241m*\u001b[39m\u001b[38;5;241m*\u001b[39mkwds)\n\u001b[1;32m    622\u001b[0m \u001b[38;5;28;01mif\u001b[39;00m chunksize \u001b[38;5;129;01mor\u001b[39;00m iterator:\n\u001b[1;32m    623\u001b[0m     \u001b[38;5;28;01mreturn\u001b[39;00m parser\n",
      "File \u001b[0;32m/opt/anaconda3/lib/python3.12/site-packages/pandas/io/parsers/readers.py:1620\u001b[0m, in \u001b[0;36mTextFileReader.__init__\u001b[0;34m(self, f, engine, **kwds)\u001b[0m\n\u001b[1;32m   1617\u001b[0m     \u001b[38;5;28mself\u001b[39m\u001b[38;5;241m.\u001b[39moptions[\u001b[38;5;124m\"\u001b[39m\u001b[38;5;124mhas_index_names\u001b[39m\u001b[38;5;124m\"\u001b[39m] \u001b[38;5;241m=\u001b[39m kwds[\u001b[38;5;124m\"\u001b[39m\u001b[38;5;124mhas_index_names\u001b[39m\u001b[38;5;124m\"\u001b[39m]\n\u001b[1;32m   1619\u001b[0m \u001b[38;5;28mself\u001b[39m\u001b[38;5;241m.\u001b[39mhandles: IOHandles \u001b[38;5;241m|\u001b[39m \u001b[38;5;28;01mNone\u001b[39;00m \u001b[38;5;241m=\u001b[39m \u001b[38;5;28;01mNone\u001b[39;00m\n\u001b[0;32m-> 1620\u001b[0m \u001b[38;5;28mself\u001b[39m\u001b[38;5;241m.\u001b[39m_engine \u001b[38;5;241m=\u001b[39m \u001b[38;5;28mself\u001b[39m\u001b[38;5;241m.\u001b[39m_make_engine(f, \u001b[38;5;28mself\u001b[39m\u001b[38;5;241m.\u001b[39mengine)\n",
      "File \u001b[0;32m/opt/anaconda3/lib/python3.12/site-packages/pandas/io/parsers/readers.py:1880\u001b[0m, in \u001b[0;36mTextFileReader._make_engine\u001b[0;34m(self, f, engine)\u001b[0m\n\u001b[1;32m   1878\u001b[0m     \u001b[38;5;28;01mif\u001b[39;00m \u001b[38;5;124m\"\u001b[39m\u001b[38;5;124mb\u001b[39m\u001b[38;5;124m\"\u001b[39m \u001b[38;5;129;01mnot\u001b[39;00m \u001b[38;5;129;01min\u001b[39;00m mode:\n\u001b[1;32m   1879\u001b[0m         mode \u001b[38;5;241m+\u001b[39m\u001b[38;5;241m=\u001b[39m \u001b[38;5;124m\"\u001b[39m\u001b[38;5;124mb\u001b[39m\u001b[38;5;124m\"\u001b[39m\n\u001b[0;32m-> 1880\u001b[0m \u001b[38;5;28mself\u001b[39m\u001b[38;5;241m.\u001b[39mhandles \u001b[38;5;241m=\u001b[39m get_handle(\n\u001b[1;32m   1881\u001b[0m     f,\n\u001b[1;32m   1882\u001b[0m     mode,\n\u001b[1;32m   1883\u001b[0m     encoding\u001b[38;5;241m=\u001b[39m\u001b[38;5;28mself\u001b[39m\u001b[38;5;241m.\u001b[39moptions\u001b[38;5;241m.\u001b[39mget(\u001b[38;5;124m\"\u001b[39m\u001b[38;5;124mencoding\u001b[39m\u001b[38;5;124m\"\u001b[39m, \u001b[38;5;28;01mNone\u001b[39;00m),\n\u001b[1;32m   1884\u001b[0m     compression\u001b[38;5;241m=\u001b[39m\u001b[38;5;28mself\u001b[39m\u001b[38;5;241m.\u001b[39moptions\u001b[38;5;241m.\u001b[39mget(\u001b[38;5;124m\"\u001b[39m\u001b[38;5;124mcompression\u001b[39m\u001b[38;5;124m\"\u001b[39m, \u001b[38;5;28;01mNone\u001b[39;00m),\n\u001b[1;32m   1885\u001b[0m     memory_map\u001b[38;5;241m=\u001b[39m\u001b[38;5;28mself\u001b[39m\u001b[38;5;241m.\u001b[39moptions\u001b[38;5;241m.\u001b[39mget(\u001b[38;5;124m\"\u001b[39m\u001b[38;5;124mmemory_map\u001b[39m\u001b[38;5;124m\"\u001b[39m, \u001b[38;5;28;01mFalse\u001b[39;00m),\n\u001b[1;32m   1886\u001b[0m     is_text\u001b[38;5;241m=\u001b[39mis_text,\n\u001b[1;32m   1887\u001b[0m     errors\u001b[38;5;241m=\u001b[39m\u001b[38;5;28mself\u001b[39m\u001b[38;5;241m.\u001b[39moptions\u001b[38;5;241m.\u001b[39mget(\u001b[38;5;124m\"\u001b[39m\u001b[38;5;124mencoding_errors\u001b[39m\u001b[38;5;124m\"\u001b[39m, \u001b[38;5;124m\"\u001b[39m\u001b[38;5;124mstrict\u001b[39m\u001b[38;5;124m\"\u001b[39m),\n\u001b[1;32m   1888\u001b[0m     storage_options\u001b[38;5;241m=\u001b[39m\u001b[38;5;28mself\u001b[39m\u001b[38;5;241m.\u001b[39moptions\u001b[38;5;241m.\u001b[39mget(\u001b[38;5;124m\"\u001b[39m\u001b[38;5;124mstorage_options\u001b[39m\u001b[38;5;124m\"\u001b[39m, \u001b[38;5;28;01mNone\u001b[39;00m),\n\u001b[1;32m   1889\u001b[0m )\n\u001b[1;32m   1890\u001b[0m \u001b[38;5;28;01massert\u001b[39;00m \u001b[38;5;28mself\u001b[39m\u001b[38;5;241m.\u001b[39mhandles \u001b[38;5;129;01mis\u001b[39;00m \u001b[38;5;129;01mnot\u001b[39;00m \u001b[38;5;28;01mNone\u001b[39;00m\n\u001b[1;32m   1891\u001b[0m f \u001b[38;5;241m=\u001b[39m \u001b[38;5;28mself\u001b[39m\u001b[38;5;241m.\u001b[39mhandles\u001b[38;5;241m.\u001b[39mhandle\n",
      "File \u001b[0;32m/opt/anaconda3/lib/python3.12/site-packages/pandas/io/common.py:873\u001b[0m, in \u001b[0;36mget_handle\u001b[0;34m(path_or_buf, mode, encoding, compression, memory_map, is_text, errors, storage_options)\u001b[0m\n\u001b[1;32m    868\u001b[0m \u001b[38;5;28;01melif\u001b[39;00m \u001b[38;5;28misinstance\u001b[39m(handle, \u001b[38;5;28mstr\u001b[39m):\n\u001b[1;32m    869\u001b[0m     \u001b[38;5;66;03m# Check whether the filename is to be opened in binary mode.\u001b[39;00m\n\u001b[1;32m    870\u001b[0m     \u001b[38;5;66;03m# Binary mode does not support 'encoding' and 'newline'.\u001b[39;00m\n\u001b[1;32m    871\u001b[0m     \u001b[38;5;28;01mif\u001b[39;00m ioargs\u001b[38;5;241m.\u001b[39mencoding \u001b[38;5;129;01mand\u001b[39;00m \u001b[38;5;124m\"\u001b[39m\u001b[38;5;124mb\u001b[39m\u001b[38;5;124m\"\u001b[39m \u001b[38;5;129;01mnot\u001b[39;00m \u001b[38;5;129;01min\u001b[39;00m ioargs\u001b[38;5;241m.\u001b[39mmode:\n\u001b[1;32m    872\u001b[0m         \u001b[38;5;66;03m# Encoding\u001b[39;00m\n\u001b[0;32m--> 873\u001b[0m         handle \u001b[38;5;241m=\u001b[39m \u001b[38;5;28mopen\u001b[39m(\n\u001b[1;32m    874\u001b[0m             handle,\n\u001b[1;32m    875\u001b[0m             ioargs\u001b[38;5;241m.\u001b[39mmode,\n\u001b[1;32m    876\u001b[0m             encoding\u001b[38;5;241m=\u001b[39mioargs\u001b[38;5;241m.\u001b[39mencoding,\n\u001b[1;32m    877\u001b[0m             errors\u001b[38;5;241m=\u001b[39merrors,\n\u001b[1;32m    878\u001b[0m             newline\u001b[38;5;241m=\u001b[39m\u001b[38;5;124m\"\u001b[39m\u001b[38;5;124m\"\u001b[39m,\n\u001b[1;32m    879\u001b[0m         )\n\u001b[1;32m    880\u001b[0m     \u001b[38;5;28;01melse\u001b[39;00m:\n\u001b[1;32m    881\u001b[0m         \u001b[38;5;66;03m# Binary mode\u001b[39;00m\n\u001b[1;32m    882\u001b[0m         handle \u001b[38;5;241m=\u001b[39m \u001b[38;5;28mopen\u001b[39m(handle, ioargs\u001b[38;5;241m.\u001b[39mmode)\n",
      "\u001b[0;31mFileNotFoundError\u001b[0m: [Errno 2] No such file or directory: 'Modeling_4-23.csv'"
     ]
    }
   ],
   "source": [
    "df = pd.read_csv(\"Modeling_4-23.csv\")"
   ]
  },
  {
   "cell_type": "markdown",
   "id": "ae20464a-9c29-48f8-9991-0f0a60244c9c",
   "metadata": {},
   "source": [
    "## Feature Engineering"
   ]
  },
  {
   "cell_type": "code",
   "execution_count": null,
   "id": "2135c656-2daa-4933-b9b0-8fc695047071",
   "metadata": {},
   "outputs": [],
   "source": [
    "df['Work_Stress'] = 0  # Default to 0\n",
    "working_mask = df['Has_Job'] == 1\n",
    "df.loc[working_mask, 'Work_Stress'] = (\n",
    "    df.loc[working_mask, 'Work Pressure'] -\n",
    "    df.loc[working_mask, 'Job Satisfaction']\n",
    ")\n"
   ]
  },
  {
   "cell_type": "code",
   "execution_count": null,
   "id": "964da79c-5dc0-4a52-8005-041b6356b2c0",
   "metadata": {},
   "outputs": [],
   "source": [
    "degree_map = {\n",
    "    # Pre-college\n",
    "    'Class 12': 1,\n",
    "\n",
    "    # Bachelor's Degrees\n",
    "    'B.Ed': 2,\n",
    "    'B.Com': 2,\n",
    "    'BCA': 2,\n",
    "    'B.Arch': 2,\n",
    "    'B.Tech': 2,\n",
    "    'BHM': 2,\n",
    "    'B.Pharm': 2,\n",
    "    'BSc': 2,\n",
    "    'BBA': 2,\n",
    "    'BA': 2,\n",
    "    'BE': 2,\n",
    "    'LLB': 2,\n",
    "    'MBBS': 2,  # Bachelor's in Medicine\n",
    "\n",
    "    # Master's Degrees\n",
    "    'MSc': 3,\n",
    "    'M.Tech': 3,\n",
    "    'MCA': 3,\n",
    "    'M.Ed': 3,\n",
    "    'M.Com': 3,\n",
    "    'MA': 3,\n",
    "    'MBA': 3,\n",
    "    'ME': 3,\n",
    "    'M.Pharm': 3,\n",
    "    'MHM': 3,\n",
    "    'LLM': 3,\n",
    "    'MD': 3,  # Usually considered postgrad specialization in medicine\n",
    "\n",
    "    # Doctoral\n",
    "    'PhD': 4\n",
    "}\n",
    "\n",
    "df['Degree_Level'] = df['Degree'].map(degree_map)"
   ]
  },
  {
   "cell_type": "code",
   "execution_count": null,
   "id": "14aea425-e8ea-4025-83b8-4082c032f167",
   "metadata": {},
   "outputs": [],
   "source": [
    "#Feature engineering\n",
    "df['Age_Education_Gap'] = df['Age'] / df['Degree_Level']\n",
    "df['Rest_Balance'] = df['Sleep_Score'] - df['Work/Study Hours']\n",
    "df['Stress_Load'] = df['Academic Pressure'] + df['Financial Stress']\n",
    "df['Wellness_Score'] = df['Diet_Score'] + df['Sleep_Score']"
   ]
  },
  {
   "cell_type": "markdown",
   "id": "38b7755b-5d00-412e-8730-62c4d66027f9",
   "metadata": {},
   "source": [
    "## Encoding"
   ]
  },
  {
   "cell_type": "code",
   "execution_count": null,
   "id": "355e08c6-cc88-4466-909b-c50ea0b89622",
   "metadata": {},
   "outputs": [],
   "source": [
    "yesno = {\n",
    "    'Yes': 1,\n",
    "    'No': 0\n",
    "}\n",
    "\n",
    "df['Suicidal_Thoughts'] = df['Have you ever had suicidal thoughts ?'].map(yesno)\n",
    "df['Family History of Mental Illness'] = df['Family History of Mental Illness'].map(yesno)\n"
   ]
  },
  {
   "cell_type": "code",
   "execution_count": null,
   "id": "7633ce95-9abd-46dc-a526-9316efbbc1c3",
   "metadata": {},
   "outputs": [],
   "source": [
    "# Drop irrelevant columns\n",
    "df = df.drop(columns=['id', \"Profession\", \"Sleep Duration\", \"Degree\",\"Dietary Habits\",\"Have you ever had suicidal thoughts ?\"])  # Drop identifiers & geodata"
   ]
  },
  {
   "cell_type": "code",
   "execution_count": null,
   "id": "a3aab886-ff7a-4e65-9691-a1c1e53b7801",
   "metadata": {},
   "outputs": [],
   "source": [
    "sleep_map = {\n",
    "    \"'7-8 hours'\": 2,\n",
    "    \"'5-6 hours'\": 1,\n",
    "    \"'Less than 5 hours'\": 0,\n",
    "    \"'More than 8 hours'\": 0\n",
    "}\n",
    "\n",
    "df['Sleep_Score'] = df['Sleep Duration'].map(sleep_map)"
   ]
  },
  {
   "cell_type": "code",
   "execution_count": 7,
   "id": "5ab81b38-a7b6-42c9-b327-f738886505f7",
   "metadata": {},
   "outputs": [],
   "source": [
    "ohe = OneHotEncoder()\n",
    "df = pd.get_dummies(df, columns=['Degree'], dtype=int)"
   ]
  },
  {
   "cell_type": "code",
   "execution_count": null,
   "id": "fec0e6ba-7b00-4b7d-b674-8448aca3ba43",
   "metadata": {},
   "outputs": [],
   "source": [
    "diet_map = {\n",
    "    'Healthy': 1,\n",
    "    'Moderate': 0,\n",
    "    'Unhealthy': -1\n",
    "}\n",
    "\n",
    "df['Diet_Score'] = df['Dietary Habits'].map(diet_map)\n"
   ]
  },
  {
   "cell_type": "markdown",
   "id": "3f1e341c-28ae-47b5-8fe7-3e32033b1739",
   "metadata": {},
   "source": [
    "## Splitting Data"
   ]
  },
  {
   "cell_type": "code",
   "execution_count": 10,
   "id": "6fbeff4b-e9b6-4533-872a-53880377835c",
   "metadata": {},
   "outputs": [],
   "source": [
    "X = df.loc[:, df.columns!='Depression']\n",
    "y = df['Depression']\n",
    "\n",
    "X_train, X_test, y_train, y_test= train_test_split(X, y, test_size=0.2, random_state=42)"
   ]
  },
  {
   "cell_type": "markdown",
   "id": "632d6d24-cffd-41dc-9788-ed56405e640e",
   "metadata": {},
   "source": [
    "## Grid Search (Recall)"
   ]
  },
  {
   "cell_type": "code",
   "execution_count": 13,
   "id": "e263237a-6d01-412a-bb39-2fe279395a69",
   "metadata": {},
   "outputs": [],
   "source": [
    "RFC = RandomForestClassifier()\n",
    "\n",
    "params = {\n",
    "    'n_estimators': [100, 300],\n",
    "    'max_depth': [None, 20, 30],\n",
    "    'min_samples_split': [2, 5],\n",
    "    'min_samples_leaf': [1, 4],\n",
    "    'max_features': ['sqrt', 0.8],\n",
    "    'bootstrap': [True],\n",
    "    'class_weight': ['balanced'],\n",
    "    'criterion': ['gini', 'entropy']\n",
    "}\n",
    " \n",
    "grid_search = GridSearchCV(\n",
    "    estimator=RFC,\n",
    "    param_grid=params,\n",
    "    cv=5,\n",
    "    scoring='recall',   \n",
    "    n_jobs=-1,\n",
    "    verbose=2\n",
    ")"
   ]
  },
  {
   "cell_type": "code",
   "execution_count": 15,
   "id": "764e3054-2890-4a7c-ad8d-e4a4be2b6fa8",
   "metadata": {},
   "outputs": [
    {
     "name": "stdout",
     "output_type": "stream",
     "text": [
      "Fitting 5 folds for each of 96 candidates, totalling 480 fits\n",
      "\n",
      "Best Parameters Found:  {'bootstrap': True, 'class_weight': 'balanced', 'criterion': 'gini', 'max_depth': 30, 'max_features': 'sqrt', 'min_samples_leaf': 1, 'min_samples_split': 2, 'n_estimators': 300}\n",
      "\n",
      "Best Cross-Validation Accuracy:  0.8844325153374234\n"
     ]
    }
   ],
   "source": [
    "grid_search.fit(X_train, y_train)\n",
    "\n",
    "print(\"\\nBest Parameters Found: \", grid_search.best_params_)\n",
    "print(\"\\nBest Cross-Validation Accuracy: \", grid_search.best_score_)"
   ]
  },
  {
   "cell_type": "code",
   "execution_count": 16,
   "id": "be84c2c8-fb0d-4418-a7d8-328494f8ce6d",
   "metadata": {},
   "outputs": [],
   "source": [
    "best_RF = grid_search.best_estimator_\n",
    "\n",
    "y_pred_best_RF = best_RF.predict(X_test)"
   ]
  },
  {
   "cell_type": "code",
   "execution_count": 17,
   "id": "7b5b6532-d1ff-445a-985b-5a706c0f02fb",
   "metadata": {},
   "outputs": [
    {
     "name": "stdout",
     "output_type": "stream",
     "text": [
      "              precision    recall  f1-score   support\n",
      "\n",
      "           0       0.84      0.77      0.80      2316\n",
      "           1       0.84      0.89      0.87      3253\n",
      "\n",
      "    accuracy                           0.84      5569\n",
      "   macro avg       0.84      0.83      0.83      5569\n",
      "weighted avg       0.84      0.84      0.84      5569\n",
      "\n",
      "Confusion Matrix (raw array):\n",
      "[[1779  537]\n",
      " [ 345 2908]]\n"
     ]
    }
   ],
   "source": [
    "print(classification_report(y_test, y_pred_best_RF))\n",
    "\n",
    "cm = confusion_matrix(y_test,  y_pred_best_RF)\n",
    "\n",
    "print(\"Confusion Matrix (raw array):\")\n",
    "print(cm)"
   ]
  },
  {
   "cell_type": "markdown",
   "id": "913d178b-a266-4ba4-b464-1794a030f21e",
   "metadata": {},
   "source": [
    "## Cross Validation (Recall)"
   ]
  },
  {
   "cell_type": "code",
   "execution_count": 19,
   "id": "e58ac1da-91d3-4fe3-ae14-847d7ae86718",
   "metadata": {},
   "outputs": [
    {
     "name": "stdout",
     "output_type": "stream",
     "text": [
      "Fold Metrics:\n",
      "[0.88842025 0.88343558 0.88995399 0.87730061 0.88305215]\n",
      "\n",
      "Average Score:\n",
      "0.8844325153374234\n",
      "\n"
     ]
    }
   ],
   "source": [
    "cv = StratifiedKFold(n_splits=5, shuffle=True, random_state=42)\n",
    "\n",
    "best_RF_cv = cross_val_score(best_RF, X_train, y_train, cv=cv, scoring='recall')\n",
    "print(f\"Fold Metrics:\\n{best_RF_cv}\\n\")\n",
    "print(f\"Average Score:\\n{best_RF_cv.mean()}\\n\")"
   ]
  },
  {
   "cell_type": "code",
   "execution_count": 20,
   "id": "0dd01a17-1a7d-4c41-8594-7dd38590fe2b",
   "metadata": {},
   "outputs": [
    {
     "name": "stdout",
     "output_type": "stream",
     "text": [
      "Fold 1 Recall: 0.8900\n",
      "Confusion Matrix:\n",
      "[[1451  397]\n",
      " [ 287 2321]]\n",
      "\n",
      "Fold 2 Recall: 0.8877\n",
      "Confusion Matrix:\n",
      "[[1433  414]\n",
      " [ 293 2315]]\n",
      "\n",
      "Fold 3 Recall: 0.8892\n",
      "Confusion Matrix:\n",
      "[[1400  447]\n",
      " [ 289 2319]]\n",
      "\n",
      "Fold 4 Recall: 0.8785\n",
      "Confusion Matrix:\n",
      "[[1430  417]\n",
      " [ 317 2291]]\n",
      "\n",
      "Fold 5 Recall: 0.8827\n",
      "Confusion Matrix:\n",
      "[[1483  364]\n",
      " [ 306 2302]]\n",
      "\n",
      "All Fold Recalls: [0.8899539877300614, 0.8876533742331288, 0.8891871165644172, 0.8784509202453987, 0.8826687116564417]\n",
      "Mean Recall: 0.8856\n",
      "Best Fold Recall: 0.8900\n",
      "Best Confusion Matrix:\n",
      "[[1451  397]\n",
      " [ 287 2321]]\n"
     ]
    }
   ],
   "source": [
    "from sklearn.metrics import recall_score, confusion_matrix\n",
    "from sklearn.model_selection import StratifiedKFold\n",
    "import numpy as np\n",
    "\n",
    "cv = StratifiedKFold(n_splits=5, shuffle=True, random_state=42)\n",
    "\n",
    "best_recall = 0\n",
    "best_confusion_matrix = None\n",
    "fold_recalls = []\n",
    "\n",
    "for fold, (train_idx, val_idx) in enumerate(cv.split(X_train, y_train), 1):\n",
    "    X_tr, X_val = X_train.iloc[train_idx], X_train.iloc[val_idx]\n",
    "    y_tr, y_val = y_train.iloc[train_idx], y_train.iloc[val_idx]\n",
    "    \n",
    "    model = clone(best_RF)\n",
    "    model.fit(X_tr, y_tr)\n",
    "    \n",
    "    y_pred = model.predict(X_val)\n",
    "    recall = recall_score(y_val, y_pred)\n",
    "    cm = confusion_matrix(y_val, y_pred)\n",
    "    \n",
    "    fold_recalls.append(recall)\n",
    "    \n",
    "    print(f\"Fold {fold} Recall: {recall:.4f}\")\n",
    "    print(f\"Confusion Matrix:\\n{cm}\\n\")\n",
    "    \n",
    "    if recall > best_recall:\n",
    "        best_recall = recall\n",
    "        best_confusion_matrix = cm\n",
    "\n",
    "print(f\"All Fold Recalls: {fold_recalls}\")\n",
    "print(f\"Mean Recall: {np.mean(fold_recalls):.4f}\")\n",
    "print(f\"Best Fold Recall: {best_recall:.4f}\")\n",
    "print(f\"Best Confusion Matrix:\\n{best_confusion_matrix}\")"
   ]
  },
  {
   "cell_type": "code",
   "execution_count": null,
   "id": "f14920be-74c7-446c-9b6d-a0600a4b715a",
   "metadata": {},
   "outputs": [],
   "source": []
  }
 ],
 "metadata": {
  "kernelspec": {
   "display_name": "Python [conda env:base] *",
   "language": "python",
   "name": "conda-base-py"
  },
  "language_info": {
   "codemirror_mode": {
    "name": "ipython",
    "version": 3
   },
   "file_extension": ".py",
   "mimetype": "text/x-python",
   "name": "python",
   "nbconvert_exporter": "python",
   "pygments_lexer": "ipython3",
   "version": "3.12.7"
  }
 },
 "nbformat": 4,
 "nbformat_minor": 5
}
