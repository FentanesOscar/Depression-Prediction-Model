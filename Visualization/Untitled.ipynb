{
 "cells": [
  {
   "cell_type": "markdown",
   "id": "3a0b860b-7c71-4680-ac3c-e338038a4bfa",
   "metadata": {},
   "source": [
    "# "
   ]
  },
  {
   "cell_type": "code",
   "execution_count": 2,
   "id": "a0de7516-9818-4576-b3e1-fe593be818e3",
   "metadata": {},
   "outputs": [],
   "source": [
    "import pandas as pd\n",
    "import matplotlib.pyplot as plt\n",
    "import numpy as np"
   ]
  },
  {
   "cell_type": "code",
   "execution_count": 4,
   "id": "807e0edb-80f2-44b1-9ce6-972be4a94b67",
   "metadata": {},
   "outputs": [],
   "source": [
    "df = pd.read_csv(\"student_depression_dataset.csv\")"
   ]
  },
  {
   "cell_type": "code",
   "execution_count": 18,
   "id": "88b2b901-ae15-43ac-b5e1-64bbd6cdc81f",
   "metadata": {},
   "outputs": [
    {
     "name": "stdout",
     "output_type": "stream",
     "text": [
      "          id Gender   Age       City Profession  Academic Pressure  \\\n",
      "10202  51613   Male  31.0  Ghaziabad    Student                2.0   \n",
      "\n",
      "       Work Pressure  CGPA  Study Satisfaction  Job Satisfaction  \\\n",
      "10202            0.0  7.92                 3.0               0.0   \n",
      "\n",
      "            Sleep Duration Dietary Habits Degree  \\\n",
      "10202  'Less than 5 hours'       Moderate    BCA   \n",
      "\n",
      "      Have you ever had suicidal thoughts ?  Work/Study Hours  \\\n",
      "10202                                    No               2.0   \n",
      "\n",
      "      Financial Stress Family History of Mental Illness  Depression  \n",
      "10202              3.0                               No           0  \n"
     ]
    }
   ],
   "source": [
    "random_row = df.sample(n=1)\n",
    "\n",
    "# Print the random row\n",
    "print(random_row)"
   ]
  },
  {
   "cell_type": "code",
   "execution_count": 14,
   "id": "8d397dda-ef03-4cd3-9c60-f4145a855408",
   "metadata": {},
   "outputs": [
    {
     "data": {
      "text/plain": [
       "Index(['id', 'Gender', 'Age', 'City', 'Profession', 'Academic Pressure',\n",
       "       'Work Pressure', 'CGPA', 'Study Satisfaction', 'Job Satisfaction',\n",
       "       'Sleep Duration', 'Dietary Habits', 'Degree',\n",
       "       'Have you ever had suicidal thoughts ?', 'Work/Study Hours',\n",
       "       'Financial Stress', 'Family History of Mental Illness', 'Depression'],\n",
       "      dtype='object')"
      ]
     },
     "execution_count": 14,
     "metadata": {},
     "output_type": "execute_result"
    }
   ],
   "source": [
    "df.columns"
   ]
  },
  {
   "cell_type": "code",
   "execution_count": 16,
   "id": "538722b8-a8a7-4070-ab0c-4b05b3d0a193",
   "metadata": {},
   "outputs": [
    {
     "data": {
      "text/html": [
       "<div>\n",
       "<style scoped>\n",
       "    .dataframe tbody tr th:only-of-type {\n",
       "        vertical-align: middle;\n",
       "    }\n",
       "\n",
       "    .dataframe tbody tr th {\n",
       "        vertical-align: top;\n",
       "    }\n",
       "\n",
       "    .dataframe thead th {\n",
       "        text-align: right;\n",
       "    }\n",
       "</style>\n",
       "<table border=\"1\" class=\"dataframe\">\n",
       "  <thead>\n",
       "    <tr style=\"text-align: right;\">\n",
       "      <th></th>\n",
       "      <th>id</th>\n",
       "      <th>Age</th>\n",
       "      <th>Academic Pressure</th>\n",
       "      <th>Work Pressure</th>\n",
       "      <th>CGPA</th>\n",
       "      <th>Study Satisfaction</th>\n",
       "      <th>Job Satisfaction</th>\n",
       "      <th>Work/Study Hours</th>\n",
       "      <th>Depression</th>\n",
       "    </tr>\n",
       "  </thead>\n",
       "  <tbody>\n",
       "    <tr>\n",
       "      <th>count</th>\n",
       "      <td>27901.000000</td>\n",
       "      <td>27901.000000</td>\n",
       "      <td>27901.000000</td>\n",
       "      <td>27901.000000</td>\n",
       "      <td>27901.000000</td>\n",
       "      <td>27901.000000</td>\n",
       "      <td>27901.000000</td>\n",
       "      <td>27901.000000</td>\n",
       "      <td>27901.000000</td>\n",
       "    </tr>\n",
       "    <tr>\n",
       "      <th>mean</th>\n",
       "      <td>70442.149421</td>\n",
       "      <td>25.822300</td>\n",
       "      <td>3.141214</td>\n",
       "      <td>0.000430</td>\n",
       "      <td>7.656104</td>\n",
       "      <td>2.943837</td>\n",
       "      <td>0.000681</td>\n",
       "      <td>7.156984</td>\n",
       "      <td>0.585499</td>\n",
       "    </tr>\n",
       "    <tr>\n",
       "      <th>std</th>\n",
       "      <td>40641.175216</td>\n",
       "      <td>4.905687</td>\n",
       "      <td>1.381465</td>\n",
       "      <td>0.043992</td>\n",
       "      <td>1.470707</td>\n",
       "      <td>1.361148</td>\n",
       "      <td>0.044394</td>\n",
       "      <td>3.707642</td>\n",
       "      <td>0.492645</td>\n",
       "    </tr>\n",
       "    <tr>\n",
       "      <th>min</th>\n",
       "      <td>2.000000</td>\n",
       "      <td>18.000000</td>\n",
       "      <td>0.000000</td>\n",
       "      <td>0.000000</td>\n",
       "      <td>0.000000</td>\n",
       "      <td>0.000000</td>\n",
       "      <td>0.000000</td>\n",
       "      <td>0.000000</td>\n",
       "      <td>0.000000</td>\n",
       "    </tr>\n",
       "    <tr>\n",
       "      <th>25%</th>\n",
       "      <td>35039.000000</td>\n",
       "      <td>21.000000</td>\n",
       "      <td>2.000000</td>\n",
       "      <td>0.000000</td>\n",
       "      <td>6.290000</td>\n",
       "      <td>2.000000</td>\n",
       "      <td>0.000000</td>\n",
       "      <td>4.000000</td>\n",
       "      <td>0.000000</td>\n",
       "    </tr>\n",
       "    <tr>\n",
       "      <th>50%</th>\n",
       "      <td>70684.000000</td>\n",
       "      <td>25.000000</td>\n",
       "      <td>3.000000</td>\n",
       "      <td>0.000000</td>\n",
       "      <td>7.770000</td>\n",
       "      <td>3.000000</td>\n",
       "      <td>0.000000</td>\n",
       "      <td>8.000000</td>\n",
       "      <td>1.000000</td>\n",
       "    </tr>\n",
       "    <tr>\n",
       "      <th>75%</th>\n",
       "      <td>105818.000000</td>\n",
       "      <td>30.000000</td>\n",
       "      <td>4.000000</td>\n",
       "      <td>0.000000</td>\n",
       "      <td>8.920000</td>\n",
       "      <td>4.000000</td>\n",
       "      <td>0.000000</td>\n",
       "      <td>10.000000</td>\n",
       "      <td>1.000000</td>\n",
       "    </tr>\n",
       "    <tr>\n",
       "      <th>max</th>\n",
       "      <td>140699.000000</td>\n",
       "      <td>59.000000</td>\n",
       "      <td>5.000000</td>\n",
       "      <td>5.000000</td>\n",
       "      <td>10.000000</td>\n",
       "      <td>5.000000</td>\n",
       "      <td>4.000000</td>\n",
       "      <td>12.000000</td>\n",
       "      <td>1.000000</td>\n",
       "    </tr>\n",
       "  </tbody>\n",
       "</table>\n",
       "</div>"
      ],
      "text/plain": [
       "                  id           Age  Academic Pressure  Work Pressure  \\\n",
       "count   27901.000000  27901.000000       27901.000000   27901.000000   \n",
       "mean    70442.149421     25.822300           3.141214       0.000430   \n",
       "std     40641.175216      4.905687           1.381465       0.043992   \n",
       "min         2.000000     18.000000           0.000000       0.000000   \n",
       "25%     35039.000000     21.000000           2.000000       0.000000   \n",
       "50%     70684.000000     25.000000           3.000000       0.000000   \n",
       "75%    105818.000000     30.000000           4.000000       0.000000   \n",
       "max    140699.000000     59.000000           5.000000       5.000000   \n",
       "\n",
       "               CGPA  Study Satisfaction  Job Satisfaction  Work/Study Hours  \\\n",
       "count  27901.000000        27901.000000      27901.000000      27901.000000   \n",
       "mean       7.656104            2.943837          0.000681          7.156984   \n",
       "std        1.470707            1.361148          0.044394          3.707642   \n",
       "min        0.000000            0.000000          0.000000          0.000000   \n",
       "25%        6.290000            2.000000          0.000000          4.000000   \n",
       "50%        7.770000            3.000000          0.000000          8.000000   \n",
       "75%        8.920000            4.000000          0.000000         10.000000   \n",
       "max       10.000000            5.000000          4.000000         12.000000   \n",
       "\n",
       "         Depression  \n",
       "count  27901.000000  \n",
       "mean       0.585499  \n",
       "std        0.492645  \n",
       "min        0.000000  \n",
       "25%        0.000000  \n",
       "50%        1.000000  \n",
       "75%        1.000000  \n",
       "max        1.000000  "
      ]
     },
     "execution_count": 16,
     "metadata": {},
     "output_type": "execute_result"
    }
   ],
   "source": [
    "df.describe()"
   ]
  },
  {
   "cell_type": "code",
   "execution_count": null,
   "id": "0c5a8015-7b7c-469d-ba84-33ed82111ec2",
   "metadata": {},
   "outputs": [],
   "source": []
  }
 ],
 "metadata": {
  "kernelspec": {
   "display_name": "Python [conda env:base] *",
   "language": "python",
   "name": "conda-base-py"
  },
  "language_info": {
   "codemirror_mode": {
    "name": "ipython",
    "version": 3
   },
   "file_extension": ".py",
   "mimetype": "text/x-python",
   "name": "python",
   "nbconvert_exporter": "python",
   "pygments_lexer": "ipython3",
   "version": "3.12.7"
  }
 },
 "nbformat": 4,
 "nbformat_minor": 5
}
