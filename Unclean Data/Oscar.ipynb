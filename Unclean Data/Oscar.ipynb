{
 "cells": [
  {
   "cell_type": "markdown",
   "id": "0ef9e7e7",
   "metadata": {},
   "source": [
    "$$\n",
    " \\text{Age Education Gap} = \\frac{\\text{Age}}{\\text{Degree}}\n",
    "$$"
   ]
  },
  {
   "cell_type": "markdown",
   "id": "bbced0ff",
   "metadata": {},
   "source": [
    "$$\n",
    "\\text{Wellness Score} = \\text{Diet Score} + \\text{Sleep Score}\n",
    "$$"
   ]
  },
  {
   "cell_type": "markdown",
   "id": "b83ee7b0",
   "metadata": {},
   "source": [
    "$$\n",
    "\\text{Stress Load} = \\text{Academic Pressure} + \\text{Financial Stress}\n",
    "$$"
   ]
  },
  {
   "cell_type": "markdown",
   "id": "f684e18c",
   "metadata": {},
   "source": [
    "$$\n",
    "\\text{Rest Balance} = \\text{Sleep Score} - \\text{Work Study hours}  \n",
    "$$"
   ]
  },
  {
   "cell_type": "markdown",
   "id": "f347f22c",
   "metadata": {},
   "source": []
  }
 ],
 "metadata": {
  "kernelspec": {
   "display_name": "Python [conda env:base] *",
   "language": "python",
   "name": "conda-base-py"
  },
  "language_info": {
   "codemirror_mode": {
    "name": "ipython",
    "version": 3
   },
   "file_extension": ".py",
   "mimetype": "text/x-python",
   "name": "python",
   "nbconvert_exporter": "python",
   "pygments_lexer": "ipython3",
   "version": "3.12.7"
  }
 },
 "nbformat": 4,
 "nbformat_minor": 5
}
