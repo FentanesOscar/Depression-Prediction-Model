{
 "cells": [
  {
   "cell_type": "code",
   "execution_count": 1,
   "id": "b8744955",
   "metadata": {},
   "outputs": [],
   "source": [
    "import pandas as pd\n",
    "import numpy as np\n",
    "import seaborn as sns\n",
    "import matplotlib.pyplot as plt\n",
    "\n",
    "from functions_preprocessing import printing_column, show_invalid_entries, replacing_invalid"
   ]
  },
  {
   "cell_type": "code",
   "execution_count": 2,
   "id": "1e144741",
   "metadata": {},
   "outputs": [],
   "source": [
    "## Reading csv file\n",
    "df = pd.read_csv(\"student_depression_dataset.csv\")"
   ]
  },
  {
   "cell_type": "markdown",
   "id": "ea78a8e0",
   "metadata": {},
   "source": [
    "Since **id** column doesn't has any relevance has only unique values we can drop it."
   ]
  },
  {
   "cell_type": "code",
   "execution_count": 3,
   "id": "f9a3962c",
   "metadata": {},
   "outputs": [
    {
     "data": {
      "text/html": [
       "<div>\n",
       "<style scoped>\n",
       "    .dataframe tbody tr th:only-of-type {\n",
       "        vertical-align: middle;\n",
       "    }\n",
       "\n",
       "    .dataframe tbody tr th {\n",
       "        vertical-align: top;\n",
       "    }\n",
       "\n",
       "    .dataframe thead th {\n",
       "        text-align: right;\n",
       "    }\n",
       "</style>\n",
       "<table border=\"1\" class=\"dataframe\">\n",
       "  <thead>\n",
       "    <tr style=\"text-align: right;\">\n",
       "      <th></th>\n",
       "      <th>Gender</th>\n",
       "      <th>Age</th>\n",
       "      <th>City</th>\n",
       "      <th>Profession</th>\n",
       "      <th>Academic Pressure</th>\n",
       "      <th>Work Pressure</th>\n",
       "      <th>CGPA</th>\n",
       "      <th>Study Satisfaction</th>\n",
       "      <th>Job Satisfaction</th>\n",
       "      <th>Sleep Duration</th>\n",
       "      <th>Dietary Habits</th>\n",
       "      <th>Degree</th>\n",
       "      <th>Have you ever had suicidal thoughts ?</th>\n",
       "      <th>Work/Study Hours</th>\n",
       "      <th>Financial Stress</th>\n",
       "      <th>Family History of Mental Illness</th>\n",
       "      <th>Depression</th>\n",
       "    </tr>\n",
       "  </thead>\n",
       "  <tbody>\n",
       "    <tr>\n",
       "      <th>0</th>\n",
       "      <td>Male</td>\n",
       "      <td>33.0</td>\n",
       "      <td>Visakhapatnam</td>\n",
       "      <td>Student</td>\n",
       "      <td>5.0</td>\n",
       "      <td>0.0</td>\n",
       "      <td>8.97</td>\n",
       "      <td>2.0</td>\n",
       "      <td>0.0</td>\n",
       "      <td>'5-6 hours'</td>\n",
       "      <td>Healthy</td>\n",
       "      <td>B.Pharm</td>\n",
       "      <td>Yes</td>\n",
       "      <td>3.0</td>\n",
       "      <td>1.0</td>\n",
       "      <td>No</td>\n",
       "      <td>1</td>\n",
       "    </tr>\n",
       "    <tr>\n",
       "      <th>1</th>\n",
       "      <td>Female</td>\n",
       "      <td>24.0</td>\n",
       "      <td>Bangalore</td>\n",
       "      <td>Student</td>\n",
       "      <td>2.0</td>\n",
       "      <td>0.0</td>\n",
       "      <td>5.90</td>\n",
       "      <td>5.0</td>\n",
       "      <td>0.0</td>\n",
       "      <td>'5-6 hours'</td>\n",
       "      <td>Moderate</td>\n",
       "      <td>BSc</td>\n",
       "      <td>No</td>\n",
       "      <td>3.0</td>\n",
       "      <td>2.0</td>\n",
       "      <td>Yes</td>\n",
       "      <td>0</td>\n",
       "    </tr>\n",
       "    <tr>\n",
       "      <th>2</th>\n",
       "      <td>Male</td>\n",
       "      <td>31.0</td>\n",
       "      <td>Srinagar</td>\n",
       "      <td>Student</td>\n",
       "      <td>3.0</td>\n",
       "      <td>0.0</td>\n",
       "      <td>7.03</td>\n",
       "      <td>5.0</td>\n",
       "      <td>0.0</td>\n",
       "      <td>'Less than 5 hours'</td>\n",
       "      <td>Healthy</td>\n",
       "      <td>BA</td>\n",
       "      <td>No</td>\n",
       "      <td>9.0</td>\n",
       "      <td>1.0</td>\n",
       "      <td>Yes</td>\n",
       "      <td>0</td>\n",
       "    </tr>\n",
       "    <tr>\n",
       "      <th>3</th>\n",
       "      <td>Female</td>\n",
       "      <td>28.0</td>\n",
       "      <td>Varanasi</td>\n",
       "      <td>Student</td>\n",
       "      <td>3.0</td>\n",
       "      <td>0.0</td>\n",
       "      <td>5.59</td>\n",
       "      <td>2.0</td>\n",
       "      <td>0.0</td>\n",
       "      <td>'7-8 hours'</td>\n",
       "      <td>Moderate</td>\n",
       "      <td>BCA</td>\n",
       "      <td>Yes</td>\n",
       "      <td>4.0</td>\n",
       "      <td>5.0</td>\n",
       "      <td>Yes</td>\n",
       "      <td>1</td>\n",
       "    </tr>\n",
       "    <tr>\n",
       "      <th>4</th>\n",
       "      <td>Female</td>\n",
       "      <td>25.0</td>\n",
       "      <td>Jaipur</td>\n",
       "      <td>Student</td>\n",
       "      <td>4.0</td>\n",
       "      <td>0.0</td>\n",
       "      <td>8.13</td>\n",
       "      <td>3.0</td>\n",
       "      <td>0.0</td>\n",
       "      <td>'5-6 hours'</td>\n",
       "      <td>Moderate</td>\n",
       "      <td>M.Tech</td>\n",
       "      <td>Yes</td>\n",
       "      <td>1.0</td>\n",
       "      <td>1.0</td>\n",
       "      <td>No</td>\n",
       "      <td>0</td>\n",
       "    </tr>\n",
       "  </tbody>\n",
       "</table>\n",
       "</div>"
      ],
      "text/plain": [
       "   Gender   Age           City Profession  Academic Pressure  Work Pressure  \\\n",
       "0    Male  33.0  Visakhapatnam    Student                5.0            0.0   \n",
       "1  Female  24.0      Bangalore    Student                2.0            0.0   \n",
       "2    Male  31.0       Srinagar    Student                3.0            0.0   \n",
       "3  Female  28.0       Varanasi    Student                3.0            0.0   \n",
       "4  Female  25.0         Jaipur    Student                4.0            0.0   \n",
       "\n",
       "   CGPA  Study Satisfaction  Job Satisfaction       Sleep Duration  \\\n",
       "0  8.97                 2.0               0.0          '5-6 hours'   \n",
       "1  5.90                 5.0               0.0          '5-6 hours'   \n",
       "2  7.03                 5.0               0.0  'Less than 5 hours'   \n",
       "3  5.59                 2.0               0.0          '7-8 hours'   \n",
       "4  8.13                 3.0               0.0          '5-6 hours'   \n",
       "\n",
       "  Dietary Habits   Degree Have you ever had suicidal thoughts ?  \\\n",
       "0        Healthy  B.Pharm                                   Yes   \n",
       "1       Moderate      BSc                                    No   \n",
       "2        Healthy       BA                                    No   \n",
       "3       Moderate      BCA                                   Yes   \n",
       "4       Moderate   M.Tech                                   Yes   \n",
       "\n",
       "   Work/Study Hours Financial Stress Family History of Mental Illness  \\\n",
       "0               3.0              1.0                               No   \n",
       "1               3.0              2.0                              Yes   \n",
       "2               9.0              1.0                              Yes   \n",
       "3               4.0              5.0                              Yes   \n",
       "4               1.0              1.0                               No   \n",
       "\n",
       "   Depression  \n",
       "0           1  \n",
       "1           0  \n",
       "2           0  \n",
       "3           1  \n",
       "4           0  "
      ]
     },
     "execution_count": 3,
     "metadata": {},
     "output_type": "execute_result"
    }
   ],
   "source": [
    "## Dropping id column and printing head to verify\n",
    "\n",
    "df = df.drop('id', axis=1)\n",
    "df.head()"
   ]
  },
  {
   "cell_type": "code",
   "execution_count": 4,
   "id": "ca5a249f",
   "metadata": {},
   "outputs": [
    {
     "name": "stdout",
     "output_type": "stream",
     "text": [
      "Gender unique values:\n",
      "['Male' 'Female']\n",
      "\n",
      "Age unique values:\n",
      "[33. 24. 31. 28. 25. 29. 30. 27. 19. 20. 23. 18. 21. 22. 34. 32. 26. 39.\n",
      " 35. 42. 36. 58. 49. 38. 51. 44. 43. 46. 59. 54. 48. 56. 37. 41.]\n",
      "\n",
      "City unique values:\n",
      "['Visakhapatnam' 'Bangalore' 'Srinagar' 'Varanasi' 'Jaipur' 'Pune' 'Thane'\n",
      " 'Chennai' 'Nagpur' 'Nashik' 'Vadodara' 'Kalyan' 'Rajkot' 'Ahmedabad'\n",
      " 'Kolkata' 'Mumbai' 'Lucknow' 'Indore' 'Surat' 'Ludhiana' 'Bhopal'\n",
      " 'Meerut' 'Agra' 'Ghaziabad' 'Hyderabad' 'Vasai-Virar' 'Kanpur' 'Patna'\n",
      " 'Faridabad' 'Delhi' 'Saanvi' 'M.Tech' 'Bhavna' \"'Less Delhi'\" 'City'\n",
      " '3.0' \"'Less than 5 Kalyan'\" 'Mira' 'Harsha' 'Vaanya' 'Gaurav' 'Harsh'\n",
      " 'Reyansh' 'Kibara' 'Rashi' 'ME' 'M.Com' 'Nalyan' 'Mihir' 'Nalini'\n",
      " 'Nandini' 'Khaziabad']\n",
      "\n",
      "Profession unique values:\n",
      "['Student' \"'Civil Engineer'\" 'Architect' \"'UX/UI Designer'\"\n",
      " \"'Digital Marketer'\" \"'Content Writer'\" \"'Educational Consultant'\"\n",
      " 'Teacher' 'Manager' 'Chef' 'Doctor' 'Lawyer' 'Entrepreneur' 'Pharmacist']\n",
      "\n",
      "Academic Pressure unique values:\n",
      "[5. 2. 3. 4. 1. 0.]\n",
      "\n",
      "Work Pressure unique values:\n",
      "[0. 5. 2.]\n",
      "\n",
      "CGPA unique values:\n",
      "[ 8.97    5.9     7.03    5.59    8.13    5.7     9.54    8.04    9.79\n",
      "  8.38    6.1     7.04    8.52    5.64    8.58    6.51    7.25    7.83\n",
      "  9.93    8.74    6.73    5.57    8.59    7.1     6.08    5.74    9.86\n",
      "  6.7     6.21    5.87    6.37    9.72    5.88    9.56    6.99    5.24\n",
      "  9.21    7.85    6.95    5.86    7.92    9.66    8.94    9.71    7.87\n",
      "  5.6     7.9     5.46    6.79    8.7     7.38    8.5     7.09    9.82\n",
      "  8.89    7.94    9.11    6.75    7.53    9.49    9.01    7.64    5.27\n",
      "  6.      9.44    5.75    7.51    9.05    6.38    8.95    9.88    5.32\n",
      "  6.27    7.7     8.1     9.59    8.96    5.51    7.43    8.79    9.95\n",
      "  5.37    6.86    8.32    9.74    5.66    7.48    8.23    8.81    6.03\n",
      "  5.56    5.68    5.14    7.61    6.17    8.17    9.87    8.75    6.16\n",
      "  9.5     7.99    5.67    8.92    6.19    5.76    6.25    5.11    5.58\n",
      "  5.65    9.89    8.03    6.61    9.41    8.64    7.21    8.28    6.04\n",
      "  9.13    8.08    9.96    5.12    8.35    7.07    9.6     9.24    8.54\n",
      "  8.78    8.93    8.91    9.04    6.83    5.85    7.74    6.41    8.9\n",
      "  7.75    7.88    5.42    7.52    7.68    8.4     9.39    6.84    5.99\n",
      "  8.62    8.53    7.47    6.78    6.42    9.92    8.39    5.89    7.22\n",
      "  6.81    9.02    9.97    9.63    9.67    5.41    7.27    6.05    6.85\n",
      "  9.33    5.81    6.53    5.98    6.02    6.74    5.26    7.72    7.39\n",
      "  8.43    9.34    5.44    5.82    5.72    8.19    8.44    8.98    9.37\n",
      "  5.8     7.28    7.6     7.91    9.17    7.46    9.43    9.91    9.36\n",
      "  5.16    7.08    9.26    8.83   10.      7.8     9.46    6.63    7.24\n",
      "  6.47    7.77    5.06    7.17    8.24    6.88    9.03    5.08    5.45\n",
      "  8.46    9.19    6.36    8.73    7.11    9.12    9.4     8.11    9.98\n",
      "  5.55    8.61    8.14    6.89    9.84    5.48    8.21    7.82    8.55\n",
      "  5.79    8.77    8.29    6.92    7.37    9.7     6.26    7.26    7.5\n",
      "  6.82    7.15    5.77    5.91    5.1     7.71    9.06    5.71    5.84\n",
      "  9.42    6.23    6.29    5.25    9.69    9.9     6.39    8.09    5.83\n",
      "  5.47    6.56    8.71    9.94    6.69    5.52    7.3     7.02    6.33\n",
      "  8.07    8.37    8.      7.79    8.65    6.28    7.35    8.69    7.12\n",
      "  7.32    7.13    5.97    5.09    6.91    6.76    6.52    7.45    8.56\n",
      "  6.5     8.63    8.27    8.49    6.59    9.29    5.3     7.06    5.38\n",
      "  6.65    9.16    8.01    8.25    8.02    8.47    7.34    8.88    7.14\n",
      "  8.42    5.17    9.1     7.49    9.85    7.42    9.31    6.35    7.\n",
      "  5.39    5.61    9.78    9.25    5.69    9.47    8.16    7.23    6.46\n",
      "  0.      8.26    6.32    6.77    8.85    5.03    7.65    5.78    6.24\n",
      "  5.35    6.06    7.78    6.64    7.0625  6.98    6.44    6.09  ]\n",
      "\n",
      "Study Satisfaction unique values:\n",
      "[2. 5. 3. 4. 1. 0.]\n",
      "\n",
      "Job Satisfaction unique values:\n",
      "[0. 3. 4. 2. 1.]\n",
      "\n",
      "Sleep Duration unique values:\n",
      "[\"'5-6 hours'\" \"'Less than 5 hours'\" \"'7-8 hours'\" \"'More than 8 hours'\"\n",
      " 'Others']\n",
      "\n",
      "Dietary Habits unique values:\n",
      "['Healthy' 'Moderate' 'Unhealthy' 'Others']\n",
      "\n",
      "Degree unique values:\n",
      "['B.Pharm' 'BSc' 'BA' 'BCA' 'M.Tech' 'PhD' \"'Class 12'\" 'B.Ed' 'LLB' 'BE'\n",
      " 'M.Ed' 'MSc' 'BHM' 'M.Pharm' 'MCA' 'MA' 'B.Com' 'MD' 'MBA' 'MBBS' 'M.Com'\n",
      " 'B.Arch' 'LLM' 'B.Tech' 'BBA' 'ME' 'MHM' 'Others']\n",
      "\n",
      "Have you ever had suicidal thoughts ? unique values:\n",
      "['Yes' 'No']\n",
      "\n",
      "Work/Study Hours unique values:\n",
      "[ 3.  9.  4.  1.  0. 12.  2. 11. 10.  6.  8.  5.  7.]\n",
      "\n",
      "Financial Stress unique values:\n",
      "['1.0' '2.0' '5.0' '3.0' '4.0' '?']\n",
      "\n",
      "Family History of Mental Illness unique values:\n",
      "['No' 'Yes']\n",
      "\n",
      "Depression unique values:\n",
      "[1 0]\n",
      "\n"
     ]
    }
   ],
   "source": [
    "## Printing all the unique values in all the columns\n",
    "\n",
    "printing_column(df)"
   ]
  },
  {
   "cell_type": "markdown",
   "id": "f6deb78e",
   "metadata": {},
   "source": [
    "After printing all the unique values in each column we can visualize that a lot of columns are having incorrect or missing entries.\n",
    "- City: 'M.Tech', \"'Less Delhi'\", 'City', '3.0', \"'Less than 5 Kalyan'\", 'ME', 'M.Com'\n",
    "- Sleep Duration: 'Others'\n",
    "- Dietary Habits: 'Others'\n",
    "- Degree: 'Others'\n",
    "- Financial Stress: 'Others'"
   ]
  },
  {
   "cell_type": "markdown",
   "id": "db9ca284",
   "metadata": {},
   "source": [
    "### <u>City Column</u>\n",
    "\n",
    "Dealing with City column first, looking closely we can observe that the city column does have incorrect values which weren't suppose to be in there. Here we have two values which represent cities \"Less than 5 Kalyan\" and \"Less Delhi\". We can replace them with appropriate values i.e. \"Less than 5 Kalyan\" with \"Kalyan\" and \"Less Delhi\" with \"Delhi\"."
   ]
  },
  {
   "cell_type": "code",
   "execution_count": 5,
   "id": "f6d3c4e8",
   "metadata": {},
   "outputs": [
    {
     "name": "stdout",
     "output_type": "stream",
     "text": [
      "Number of invalid City entries: 8\n",
      "City\n",
      "City                    2\n",
      "M.Tech                  1\n",
      "'Less Delhi'            1\n",
      "3.0                     1\n",
      "'Less than 5 Kalyan'    1\n",
      "ME                      1\n",
      "M.Com                   1\n",
      "Name: count, dtype: int64\n"
     ]
    }
   ],
   "source": [
    "invalid_cities = ['M.Tech', \"'Less Delhi'\", 'City', '3.0', \"'Less than 5 Kalyan'\", 'ME', 'M.Com']\n",
    "show_invalid_entries(df, 'City', invalid_cities)"
   ]
  },
  {
   "cell_type": "markdown",
   "id": "8466f4bd",
   "metadata": {},
   "source": [
    "Replacing all values with mode value of City column except \"Less Delhi\" and \"Less than 5 Kalyan\" since they will be replaced by the city names."
   ]
  },
  {
   "cell_type": "code",
   "execution_count": 6,
   "id": "25d54f2c",
   "metadata": {},
   "outputs": [],
   "source": [
    "## Replaced \"Less Delhi\" with \"Delhi\" and \"Less than 5 Kalyan\"\n",
    "df['City'] = df['City'].replace(\"'Less Delhi'\", 'Delhi')\n",
    "df['City'] = df['City'].replace(\"'Less than 5 Kalyan'\", 'Kalyan')"
   ]
  },
  {
   "cell_type": "code",
   "execution_count": 7,
   "id": "4dbed239",
   "metadata": {},
   "outputs": [
    {
     "name": "stdout",
     "output_type": "stream",
     "text": [
      "Number of invalid City entries: 6\n",
      "City\n",
      "City      2\n",
      "M.Tech    1\n",
      "3.0       1\n",
      "ME        1\n",
      "M.Com     1\n",
      "Name: count, dtype: int64\n"
     ]
    }
   ],
   "source": [
    "show_invalid_entries(df, 'City', invalid_cities)"
   ]
  },
  {
   "cell_type": "code",
   "execution_count": 8,
   "id": "3935af23",
   "metadata": {},
   "outputs": [],
   "source": [
    "## Replacing rest of the invalid cities with the mode values\n",
    "df = replacing_invalid(df, 'City', invalid_cities)"
   ]
  },
  {
   "cell_type": "code",
   "execution_count": 9,
   "id": "f9b75c9f",
   "metadata": {},
   "outputs": [
    {
     "name": "stdout",
     "output_type": "stream",
     "text": [
      "Number of invalid City entries: 0\n",
      "Series([], Name: count, dtype: int64)\n"
     ]
    }
   ],
   "source": [
    "show_invalid_entries(df, 'City', invalid_cities)"
   ]
  },
  {
   "cell_type": "markdown",
   "id": "bea7e63f",
   "metadata": {},
   "source": [
    "All invalid values in **City** column are replaced."
   ]
  },
  {
   "cell_type": "markdown",
   "id": "e4bb826f",
   "metadata": {},
   "source": [
    "___"
   ]
  },
  {
   "cell_type": "markdown",
   "id": "d1f47fef",
   "metadata": {},
   "source": [
    "### <u>Sleep Duration</u>\n",
    "\n",
    "Discussed earlier we observe there is an invalid value **\"Other\"** in the column **Sleep Duration**."
   ]
  },
  {
   "cell_type": "code",
   "execution_count": 10,
   "id": "65e5f6db",
   "metadata": {},
   "outputs": [
    {
     "name": "stdout",
     "output_type": "stream",
     "text": [
      "Number of invalid Sleep Duration entries: 18\n",
      "Sleep Duration\n",
      "Others    18\n",
      "Name: count, dtype: int64\n"
     ]
    }
   ],
   "source": [
    "invalid_sleep = ['Others']\n",
    "show_invalid_entries(df, \"Sleep Duration\", invalid_sleep)"
   ]
  },
  {
   "cell_type": "markdown",
   "id": "48282b1b",
   "metadata": {},
   "source": [
    "Removing the **18 other** values with the value which appeared most (mode)."
   ]
  },
  {
   "cell_type": "code",
   "execution_count": 11,
   "id": "390178ea",
   "metadata": {},
   "outputs": [],
   "source": [
    "df = replacing_invalid(df, 'Sleep Duration', invalid_sleep)"
   ]
  },
  {
   "cell_type": "code",
   "execution_count": 12,
   "id": "5f64b3df",
   "metadata": {},
   "outputs": [
    {
     "name": "stdout",
     "output_type": "stream",
     "text": [
      "Number of invalid Sleep Duration entries: 0\n",
      "Series([], Name: count, dtype: int64)\n"
     ]
    }
   ],
   "source": [
    "show_invalid_entries(df, \"Sleep Duration\", invalid_sleep)"
   ]
  },
  {
   "cell_type": "markdown",
   "id": "d2fcc3aa",
   "metadata": {},
   "source": [
    "---"
   ]
  },
  {
   "cell_type": "markdown",
   "id": "c5877d42",
   "metadata": {},
   "source": [
    "### <u>Dietary Habits</u>\n",
    "\n",
    "Discussed earlier we observe there is an invalid value **\"Other\"** in the column **Dietary Habits**."
   ]
  },
  {
   "cell_type": "code",
   "execution_count": 13,
   "id": "76ea2951",
   "metadata": {},
   "outputs": [
    {
     "name": "stdout",
     "output_type": "stream",
     "text": [
      "Number of invalid Dietary Habits entries: 12\n",
      "Dietary Habits\n",
      "Others    12\n",
      "Name: count, dtype: int64\n"
     ]
    }
   ],
   "source": [
    "invalid_habit = ['Others']\n",
    "show_invalid_entries(df, \"Dietary Habits\", invalid_habit)"
   ]
  },
  {
   "cell_type": "code",
   "execution_count": 14,
   "id": "3e4a37d3",
   "metadata": {},
   "outputs": [],
   "source": [
    "df = replacing_invalid(df, 'Dietary Habits', invalid_habit)"
   ]
  },
  {
   "cell_type": "code",
   "execution_count": 15,
   "id": "29e56df5",
   "metadata": {},
   "outputs": [
    {
     "name": "stdout",
     "output_type": "stream",
     "text": [
      "Number of invalid Dietary Habits entries: 0\n",
      "Series([], Name: count, dtype: int64)\n"
     ]
    }
   ],
   "source": [
    "show_invalid_entries(df, \"Dietary Habits\", invalid_habit)"
   ]
  },
  {
   "cell_type": "markdown",
   "id": "d44ff5fd",
   "metadata": {},
   "source": [
    "---"
   ]
  },
  {
   "cell_type": "markdown",
   "id": "fa66871e",
   "metadata": {},
   "source": [
    "### <u>Degree</u>\n",
    "\n",
    "Discussed earlier we observe there is an invalid value **\"Other\"** in the column **Degree**."
   ]
  },
  {
   "cell_type": "code",
   "execution_count": 16,
   "id": "60b49e2a",
   "metadata": {},
   "outputs": [
    {
     "name": "stdout",
     "output_type": "stream",
     "text": [
      "Number of invalid Degree entries: 35\n",
      "Degree\n",
      "Others    35\n",
      "Name: count, dtype: int64\n"
     ]
    }
   ],
   "source": [
    "invalid_degree = ['Others']\n",
    "show_invalid_entries(df, \"Degree\", invalid_degree)"
   ]
  },
  {
   "cell_type": "code",
   "execution_count": 17,
   "id": "3b33d4be",
   "metadata": {},
   "outputs": [],
   "source": [
    "df = replacing_invalid(df, 'Degree', invalid_degree)"
   ]
  },
  {
   "cell_type": "code",
   "execution_count": 18,
   "id": "ea8a0281",
   "metadata": {},
   "outputs": [
    {
     "name": "stdout",
     "output_type": "stream",
     "text": [
      "Number of invalid Degree entries: 0\n",
      "Series([], Name: count, dtype: int64)\n"
     ]
    }
   ],
   "source": [
    "show_invalid_entries(df, \"Degree\", invalid_degree)"
   ]
  },
  {
   "cell_type": "markdown",
   "id": "a8c35642",
   "metadata": {},
   "source": [
    "---"
   ]
  },
  {
   "cell_type": "markdown",
   "id": "1589280c",
   "metadata": {},
   "source": [
    "### <u>Financial Stress</u>\n",
    "\n",
    "Discussed earlier we observe there is an invalid value **\"?\"** in the column **Financial Stress**."
   ]
  },
  {
   "cell_type": "code",
   "execution_count": 19,
   "id": "29446f5b",
   "metadata": {},
   "outputs": [
    {
     "name": "stdout",
     "output_type": "stream",
     "text": [
      "Number of invalid Financial Stress entries: 3\n",
      "Financial Stress\n",
      "?    3\n",
      "Name: count, dtype: int64\n"
     ]
    }
   ],
   "source": [
    "invalid_stress = ['?']\n",
    "show_invalid_entries(df, \"Financial Stress\", invalid_stress)"
   ]
  },
  {
   "cell_type": "code",
   "execution_count": 20,
   "id": "af6ec516",
   "metadata": {},
   "outputs": [],
   "source": [
    "df = replacing_invalid(df, \"Financial Stress\", invalid_stress)"
   ]
  },
  {
   "cell_type": "code",
   "execution_count": 21,
   "id": "c67f5a4d",
   "metadata": {},
   "outputs": [
    {
     "name": "stdout",
     "output_type": "stream",
     "text": [
      "Number of invalid Financial Stress entries: 0\n",
      "Series([], Name: count, dtype: int64)\n"
     ]
    }
   ],
   "source": [
    "show_invalid_entries(df, \"Financial Stress\", invalid_stress)"
   ]
  },
  {
   "cell_type": "code",
   "execution_count": 22,
   "id": "afebb0fc",
   "metadata": {},
   "outputs": [],
   "source": [
    "df['Financial Stress'] = df['Financial Stress'].astype(float).astype('int64')\n"
   ]
  },
  {
   "cell_type": "markdown",
   "id": "d866e449",
   "metadata": {},
   "source": [
    "___"
   ]
  },
  {
   "cell_type": "code",
   "execution_count": null,
   "id": "42a6d4a6",
   "metadata": {},
   "outputs": [
    {
     "name": "stdout",
     "output_type": "stream",
     "text": [
      "Gender unique values:\n",
      "['Male' 'Female']\n",
      "\n",
      "Age unique values:\n",
      "[33. 24. 31. 28. 25. 29. 30. 27. 19. 20. 23. 18. 21. 22. 34. 32. 26. 39.\n",
      " 35. 42. 36. 58. 49. 38. 51. 44. 43. 46. 59. 54. 48. 56. 37. 41.]\n",
      "\n",
      "City unique values:\n",
      "['Visakhapatnam' 'Bangalore' 'Srinagar' 'Varanasi' 'Jaipur' 'Pune' 'Thane'\n",
      " 'Chennai' 'Nagpur' 'Nashik' 'Vadodara' 'Kalyan' 'Rajkot' 'Ahmedabad'\n",
      " 'Kolkata' 'Mumbai' 'Lucknow' 'Indore' 'Surat' 'Ludhiana' 'Bhopal'\n",
      " 'Meerut' 'Agra' 'Ghaziabad' 'Hyderabad' 'Vasai-Virar' 'Kanpur' 'Patna'\n",
      " 'Faridabad' 'Delhi' 'Saanvi' 'Bhavna' 'Mira' 'Harsha' 'Vaanya' 'Gaurav'\n",
      " 'Harsh' 'Reyansh' 'Kibara' 'Rashi' 'Nalyan' 'Mihir' 'Nalini' 'Nandini'\n",
      " 'Khaziabad']\n",
      "\n",
      "Profession unique values:\n",
      "['Student' \"'Civil Engineer'\" 'Architect' \"'UX/UI Designer'\"\n",
      " \"'Digital Marketer'\" \"'Content Writer'\" \"'Educational Consultant'\"\n",
      " 'Teacher' 'Manager' 'Chef' 'Doctor' 'Lawyer' 'Entrepreneur' 'Pharmacist']\n",
      "\n",
      "Academic Pressure unique values:\n",
      "[5. 2. 3. 4. 1. 0.]\n",
      "\n",
      "Work Pressure unique values:\n",
      "[0. 5. 2.]\n",
      "\n",
      "CGPA unique values:\n",
      "[ 8.97    5.9     7.03    5.59    8.13    5.7     9.54    8.04    9.79\n",
      "  8.38    6.1     7.04    8.52    5.64    8.58    6.51    7.25    7.83\n",
      "  9.93    8.74    6.73    5.57    8.59    7.1     6.08    5.74    9.86\n",
      "  6.7     6.21    5.87    6.37    9.72    5.88    9.56    6.99    5.24\n",
      "  9.21    7.85    6.95    5.86    7.92    9.66    8.94    9.71    7.87\n",
      "  5.6     7.9     5.46    6.79    8.7     7.38    8.5     7.09    9.82\n",
      "  8.89    7.94    9.11    6.75    7.53    9.49    9.01    7.64    5.27\n",
      "  6.      9.44    5.75    7.51    9.05    6.38    8.95    9.88    5.32\n",
      "  6.27    7.7     8.1     9.59    8.96    5.51    7.43    8.79    9.95\n",
      "  5.37    6.86    8.32    9.74    5.66    7.48    8.23    8.81    6.03\n",
      "  5.56    5.68    5.14    7.61    6.17    8.17    9.87    8.75    6.16\n",
      "  9.5     7.99    5.67    8.92    6.19    5.76    6.25    5.11    5.58\n",
      "  5.65    9.89    8.03    6.61    9.41    8.64    7.21    8.28    6.04\n",
      "  9.13    8.08    9.96    5.12    8.35    7.07    9.6     9.24    8.54\n",
      "  8.78    8.93    8.91    9.04    6.83    5.85    7.74    6.41    8.9\n",
      "  7.75    7.88    5.42    7.52    7.68    8.4     9.39    6.84    5.99\n",
      "  8.62    8.53    7.47    6.78    6.42    9.92    8.39    5.89    7.22\n",
      "  6.81    9.02    9.97    9.63    9.67    5.41    7.27    6.05    6.85\n",
      "  9.33    5.81    6.53    5.98    6.02    6.74    5.26    7.72    7.39\n",
      "  8.43    9.34    5.44    5.82    5.72    8.19    8.44    8.98    9.37\n",
      "  5.8     7.28    7.6     7.91    9.17    7.46    9.43    9.91    9.36\n",
      "  5.16    7.08    9.26    8.83   10.      7.8     9.46    6.63    7.24\n",
      "  6.47    7.77    5.06    7.17    8.24    6.88    9.03    5.08    5.45\n",
      "  8.46    9.19    6.36    8.73    7.11    9.12    9.4     8.11    9.98\n",
      "  5.55    8.61    8.14    6.89    9.84    5.48    8.21    7.82    8.55\n",
      "  5.79    8.77    8.29    6.92    7.37    9.7     6.26    7.26    7.5\n",
      "  6.82    7.15    5.77    5.91    5.1     7.71    9.06    5.71    5.84\n",
      "  9.42    6.23    6.29    5.25    9.69    9.9     6.39    8.09    5.83\n",
      "  5.47    6.56    8.71    9.94    6.69    5.52    7.3     7.02    6.33\n",
      "  8.07    8.37    8.      7.79    8.65    6.28    7.35    8.69    7.12\n",
      "  7.32    7.13    5.97    5.09    6.91    6.76    6.52    7.45    8.56\n",
      "  6.5     8.63    8.27    8.49    6.59    9.29    5.3     7.06    5.38\n",
      "  6.65    9.16    8.01    8.25    8.02    8.47    7.34    8.88    7.14\n",
      "  8.42    5.17    9.1     7.49    9.85    7.42    9.31    6.35    7.\n",
      "  5.39    5.61    9.78    9.25    5.69    9.47    8.16    7.23    6.46\n",
      "  0.      8.26    6.32    6.77    8.85    5.03    7.65    5.78    6.24\n",
      "  5.35    6.06    7.78    6.64    7.0625  6.98    6.44    6.09  ]\n",
      "\n",
      "Study Satisfaction unique values:\n",
      "[2. 5. 3. 4. 1. 0.]\n",
      "\n",
      "Job Satisfaction unique values:\n",
      "[0. 3. 4. 2. 1.]\n",
      "\n",
      "Sleep Duration unique values:\n",
      "[\"'5-6 hours'\" \"'Less than 5 hours'\" \"'7-8 hours'\" \"'More than 8 hours'\"]\n",
      "\n",
      "Dietary Habits unique values:\n",
      "['Healthy' 'Moderate' 'Unhealthy']\n",
      "\n",
      "Degree unique values:\n",
      "['B.Pharm' 'BSc' 'BA' 'BCA' 'M.Tech' 'PhD' \"'Class 12'\" 'B.Ed' 'LLB' 'BE'\n",
      " 'M.Ed' 'MSc' 'BHM' 'M.Pharm' 'MCA' 'MA' 'B.Com' 'MD' 'MBA' 'MBBS' 'M.Com'\n",
      " 'B.Arch' 'LLM' 'B.Tech' 'BBA' 'ME' 'MHM']\n",
      "\n",
      "Have you ever had suicidal thoughts ? unique values:\n",
      "['Yes' 'No']\n",
      "\n",
      "Work/Study Hours unique values:\n",
      "[ 3.  9.  4.  1.  0. 12.  2. 11. 10.  6.  8.  5.  7.]\n",
      "\n",
      "Financial Stress unique values:\n",
      "[1 2 5 3 4]\n",
      "\n",
      "Family History of Mental Illness unique values:\n",
      "['No' 'Yes']\n",
      "\n",
      "Depression unique values:\n",
      "[1 0]\n",
      "\n"
     ]
    }
   ],
   "source": [
    "## Printing all the unique values of the column again; just to make sure that we have not missed anything.\n",
    "printing_column(df)"
   ]
  },
  {
   "cell_type": "code",
   "execution_count": null,
   "id": "5751dc71",
   "metadata": {},
   "outputs": [
    {
     "name": "stdout",
     "output_type": "stream",
     "text": [
      "Gender                                    object\n",
      "Age                                      float64\n",
      "City                                      object\n",
      "Profession                                object\n",
      "Academic Pressure                        float64\n",
      "Work Pressure                            float64\n",
      "CGPA                                     float64\n",
      "Study Satisfaction                       float64\n",
      "Job Satisfaction                         float64\n",
      "Sleep Duration                            object\n",
      "Dietary Habits                            object\n",
      "Degree                                    object\n",
      "Have you ever had suicidal thoughts ?     object\n",
      "Work/Study Hours                         float64\n",
      "Financial Stress                           int64\n",
      "Family History of Mental Illness          object\n",
      "Depression                                 int64\n",
      "dtype: object\n"
     ]
    }
   ],
   "source": [
    "## Printing the types again to make sure we have the correct types\n",
    "print(df.dtypes)"
   ]
  },
  {
   "cell_type": "code",
   "execution_count": 26,
   "id": "bb6fa041",
   "metadata": {},
   "outputs": [],
   "source": [
    "## Age, Academic Pressure, Work Pressure, Study Satisfaction, Job Satisfaction, Work/Study Hours\n",
    "## Converting these columns which from float to int64 since there are no decimal values\n",
    "cols_to_convert = ['Age', 'Academic Pressure', 'Work Pressure', 'Study Satisfaction', 'Job Satisfaction', 'Work/Study Hours']\n",
    "df[cols_to_convert] = df[cols_to_convert].astype(float).astype('int64') "
   ]
  },
  {
   "cell_type": "code",
   "execution_count": 27,
   "id": "7748e4e2",
   "metadata": {},
   "outputs": [
    {
     "name": "stdout",
     "output_type": "stream",
     "text": [
      "Gender                                    object\n",
      "Age                                        int64\n",
      "City                                      object\n",
      "Profession                                object\n",
      "Academic Pressure                          int64\n",
      "Work Pressure                              int64\n",
      "CGPA                                     float64\n",
      "Study Satisfaction                         int64\n",
      "Job Satisfaction                           int64\n",
      "Sleep Duration                            object\n",
      "Dietary Habits                            object\n",
      "Degree                                    object\n",
      "Have you ever had suicidal thoughts ?     object\n",
      "Work/Study Hours                           int64\n",
      "Financial Stress                           int64\n",
      "Family History of Mental Illness          object\n",
      "Depression                                 int64\n",
      "dtype: object\n"
     ]
    }
   ],
   "source": [
    "print(df.dtypes)"
   ]
  },
  {
   "cell_type": "code",
   "execution_count": 28,
   "id": "33aa5a62",
   "metadata": {},
   "outputs": [],
   "source": [
    "df.to_csv(\"Final.csv\")"
   ]
  }
 ],
 "metadata": {
  "kernelspec": {
   "display_name": "base",
   "language": "python",
   "name": "python3"
  },
  "language_info": {
   "codemirror_mode": {
    "name": "ipython",
    "version": 3
   },
   "file_extension": ".py",
   "mimetype": "text/x-python",
   "name": "python",
   "nbconvert_exporter": "python",
   "pygments_lexer": "ipython3",
   "version": "3.12.3"
  }
 },
 "nbformat": 4,
 "nbformat_minor": 5
}
