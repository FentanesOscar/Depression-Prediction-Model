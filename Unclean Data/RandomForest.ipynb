{
 "cells": [
  {
   "cell_type": "code",
   "execution_count": 2,
   "id": "314504ad-3cd1-4c1e-914e-6de099c21215",
   "metadata": {},
   "outputs": [],
   "source": [
    "import pandas as pd\n",
    "import matplotlib.pyplot as plt\n",
    "from sklearn.model_selection import train_test_split\n",
    "from sklearn.metrics import classification_report\n",
    "from xgboost import XGBClassifier\n",
    "from sklearn.preprocessing import OneHotEncoder\n",
    "from sklearn.metrics import confusion_matrix, ConfusionMatrixDisplay\n",
    "from sklearn.ensemble import RandomForestClassifier\n",
    "from sklearn.model_selection import GridSearchCV\n",
    "from imblearn.pipeline import Pipeline\n",
    "from sklearn.base import clone\n",
    "from imblearn.over_sampling import SMOTE\n",
    "from sklearn.model_selection import StratifiedKFold\n",
    "from sklearn.metrics import recall_score, accuracy_score\n",
    "import numpy as np\n",
    "import joblib\n",
    "from sklearn.model_selection import cross_val_score, StratifiedKFold"
   ]
  },
  {
   "cell_type": "code",
   "execution_count": 4,
   "id": "6e1a6b11-02ed-4a8e-87e3-d366ca2c3e9d",
   "metadata": {},
   "outputs": [],
   "source": [
    "df = pd.read_csv(\"Modeling_4-23.csv\")"
   ]
  },
  {
   "cell_type": "markdown",
   "id": "38b7755b-5d00-412e-8730-62c4d66027f9",
   "metadata": {},
   "source": [
    "## Encoding"
   ]
  },
  {
   "cell_type": "code",
   "execution_count": 7,
   "id": "5ab81b38-a7b6-42c9-b327-f738886505f7",
   "metadata": {},
   "outputs": [],
   "source": [
    "ohe = OneHotEncoder()\n",
    "df = pd.get_dummies(df, columns=['Degree'], dtype=int)"
   ]
  },
  {
   "cell_type": "markdown",
   "id": "3f1e341c-28ae-47b5-8fe7-3e32033b1739",
   "metadata": {},
   "source": [
    "## Splitting Data"
   ]
  },
  {
   "cell_type": "code",
   "execution_count": 10,
   "id": "6fbeff4b-e9b6-4533-872a-53880377835c",
   "metadata": {},
   "outputs": [],
   "source": [
    "X = df.loc[:, df.columns!='Depression']\n",
    "y = df['Depression']\n",
    "\n",
    "X_train, X_test, y_train, y_test= train_test_split(X, y, test_size=0.2, random_state=42)"
   ]
  },
  {
   "cell_type": "markdown",
   "id": "632d6d24-cffd-41dc-9788-ed56405e640e",
   "metadata": {},
   "source": [
    "## Grid Search (Recall)"
   ]
  },
  {
   "cell_type": "code",
   "execution_count": 13,
   "id": "e263237a-6d01-412a-bb39-2fe279395a69",
   "metadata": {},
   "outputs": [],
   "source": [
    "RFC = RandomForestClassifier()\n",
    "\n",
    "params = {\n",
    "    'n_estimators': [100, 300],\n",
    "    'max_depth': [None, 20, 30],\n",
    "    'min_samples_split': [2, 5],\n",
    "    'min_samples_leaf': [1, 4],\n",
    "    'max_features': ['sqrt', 0.8],\n",
    "    'bootstrap': [True],\n",
    "    'class_weight': ['balanced'],\n",
    "    'criterion': ['gini', 'entropy']\n",
    "}\n",
    " \n",
    "grid_search = GridSearchCV(\n",
    "    estimator=RFC,\n",
    "    param_grid=params,\n",
    "    cv=5,\n",
    "    scoring='recall',   \n",
    "    n_jobs=-1,\n",
    "    verbose=2\n",
    ")"
   ]
  },
  {
   "cell_type": "code",
   "execution_count": 15,
   "id": "764e3054-2890-4a7c-ad8d-e4a4be2b6fa8",
   "metadata": {},
   "outputs": [
    {
     "name": "stdout",
     "output_type": "stream",
     "text": [
      "Fitting 5 folds for each of 96 candidates, totalling 480 fits\n",
      "\n",
      "Best Parameters Found:  {'bootstrap': True, 'class_weight': 'balanced', 'criterion': 'gini', 'max_depth': 30, 'max_features': 'sqrt', 'min_samples_leaf': 1, 'min_samples_split': 2, 'n_estimators': 300}\n",
      "\n",
      "Best Cross-Validation Accuracy:  0.8844325153374234\n"
     ]
    }
   ],
   "source": [
    "grid_search.fit(X_train, y_train)\n",
    "\n",
    "print(\"\\nBest Parameters Found: \", grid_search.best_params_)\n",
    "print(\"\\nBest Cross-Validation Accuracy: \", grid_search.best_score_)"
   ]
  },
  {
   "cell_type": "code",
   "execution_count": 16,
   "id": "be84c2c8-fb0d-4418-a7d8-328494f8ce6d",
   "metadata": {},
   "outputs": [],
   "source": [
    "best_RF = grid_search.best_estimator_\n",
    "\n",
    "y_pred_best_RF = best_RF.predict(X_test)"
   ]
  },
  {
   "cell_type": "code",
   "execution_count": 17,
   "id": "7b5b6532-d1ff-445a-985b-5a706c0f02fb",
   "metadata": {},
   "outputs": [
    {
     "name": "stdout",
     "output_type": "stream",
     "text": [
      "              precision    recall  f1-score   support\n",
      "\n",
      "           0       0.84      0.77      0.80      2316\n",
      "           1       0.84      0.89      0.87      3253\n",
      "\n",
      "    accuracy                           0.84      5569\n",
      "   macro avg       0.84      0.83      0.83      5569\n",
      "weighted avg       0.84      0.84      0.84      5569\n",
      "\n",
      "Confusion Matrix (raw array):\n",
      "[[1779  537]\n",
      " [ 345 2908]]\n"
     ]
    }
   ],
   "source": [
    "print(classification_report(y_test, y_pred_best_RF))\n",
    "\n",
    "cm = confusion_matrix(y_test,  y_pred_best_RF)\n",
    "\n",
    "print(\"Confusion Matrix (raw array):\")\n",
    "print(cm)"
   ]
  },
  {
   "cell_type": "markdown",
   "id": "913d178b-a266-4ba4-b464-1794a030f21e",
   "metadata": {},
   "source": [
    "## Cross Validation (Recall)"
   ]
  },
  {
   "cell_type": "code",
   "execution_count": 19,
   "id": "e58ac1da-91d3-4fe3-ae14-847d7ae86718",
   "metadata": {},
   "outputs": [
    {
     "name": "stdout",
     "output_type": "stream",
     "text": [
      "Fold Metrics:\n",
      "[0.88842025 0.88343558 0.88995399 0.87730061 0.88305215]\n",
      "\n",
      "Average Score:\n",
      "0.8844325153374234\n",
      "\n"
     ]
    }
   ],
   "source": [
    "cv = StratifiedKFold(n_splits=5, shuffle=True, random_state=42)\n",
    "\n",
    "best_RF_cv = cross_val_score(best_RF, X_train, y_train, cv=cv, scoring='recall')\n",
    "print(f\"Fold Metrics:\\n{best_RF_cv}\\n\")\n",
    "print(f\"Average Score:\\n{best_RF_cv.mean()}\\n\")"
   ]
  },
  {
   "cell_type": "code",
   "execution_count": 20,
   "id": "0dd01a17-1a7d-4c41-8594-7dd38590fe2b",
   "metadata": {},
   "outputs": [
    {
     "name": "stdout",
     "output_type": "stream",
     "text": [
      "Fold 1 Recall: 0.8900\n",
      "Confusion Matrix:\n",
      "[[1451  397]\n",
      " [ 287 2321]]\n",
      "\n",
      "Fold 2 Recall: 0.8877\n",
      "Confusion Matrix:\n",
      "[[1433  414]\n",
      " [ 293 2315]]\n",
      "\n",
      "Fold 3 Recall: 0.8892\n",
      "Confusion Matrix:\n",
      "[[1400  447]\n",
      " [ 289 2319]]\n",
      "\n",
      "Fold 4 Recall: 0.8785\n",
      "Confusion Matrix:\n",
      "[[1430  417]\n",
      " [ 317 2291]]\n",
      "\n",
      "Fold 5 Recall: 0.8827\n",
      "Confusion Matrix:\n",
      "[[1483  364]\n",
      " [ 306 2302]]\n",
      "\n",
      "All Fold Recalls: [0.8899539877300614, 0.8876533742331288, 0.8891871165644172, 0.8784509202453987, 0.8826687116564417]\n",
      "Mean Recall: 0.8856\n",
      "Best Fold Recall: 0.8900\n",
      "Best Confusion Matrix:\n",
      "[[1451  397]\n",
      " [ 287 2321]]\n"
     ]
    }
   ],
   "source": [
    "from sklearn.metrics import recall_score, confusion_matrix\n",
    "from sklearn.model_selection import StratifiedKFold\n",
    "import numpy as np\n",
    "\n",
    "cv = StratifiedKFold(n_splits=5, shuffle=True, random_state=42)\n",
    "\n",
    "best_recall = 0\n",
    "best_confusion_matrix = None\n",
    "fold_recalls = []\n",
    "\n",
    "for fold, (train_idx, val_idx) in enumerate(cv.split(X_train, y_train), 1):\n",
    "    X_tr, X_val = X_train.iloc[train_idx], X_train.iloc[val_idx]\n",
    "    y_tr, y_val = y_train.iloc[train_idx], y_train.iloc[val_idx]\n",
    "    \n",
    "    model = clone(best_RF)\n",
    "    model.fit(X_tr, y_tr)\n",
    "    \n",
    "    y_pred = model.predict(X_val)\n",
    "    recall = recall_score(y_val, y_pred)\n",
    "    cm = confusion_matrix(y_val, y_pred)\n",
    "    \n",
    "    fold_recalls.append(recall)\n",
    "    \n",
    "    print(f\"Fold {fold} Recall: {recall:.4f}\")\n",
    "    print(f\"Confusion Matrix:\\n{cm}\\n\")\n",
    "    \n",
    "    if recall > best_recall:\n",
    "        best_recall = recall\n",
    "        best_confusion_matrix = cm\n",
    "\n",
    "print(f\"All Fold Recalls: {fold_recalls}\")\n",
    "print(f\"Mean Recall: {np.mean(fold_recalls):.4f}\")\n",
    "print(f\"Best Fold Recall: {best_recall:.4f}\")\n",
    "print(f\"Best Confusion Matrix:\\n{best_confusion_matrix}\")"
   ]
  },
  {
   "cell_type": "code",
   "execution_count": null,
   "id": "f14920be-74c7-446c-9b6d-a0600a4b715a",
   "metadata": {},
   "outputs": [],
   "source": []
  }
 ],
 "metadata": {
  "kernelspec": {
   "display_name": "Python [conda env:base] *",
   "language": "python",
   "name": "conda-base-py"
  },
  "language_info": {
   "codemirror_mode": {
    "name": "ipython",
    "version": 3
   },
   "file_extension": ".py",
   "mimetype": "text/x-python",
   "name": "python",
   "nbconvert_exporter": "python",
   "pygments_lexer": "ipython3",
   "version": "3.12.7"
  }
 },
 "nbformat": 4,
 "nbformat_minor": 5
}
