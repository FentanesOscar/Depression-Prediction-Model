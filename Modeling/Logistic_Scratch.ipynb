{
 "cells": [
  {
   "cell_type": "code",
   "execution_count": 2,
   "id": "f7c25103-db57-4950-bcda-37f720e43b17",
   "metadata": {},
   "outputs": [],
   "source": [
    "import pandas as pd\n",
    "import matplotlib.pyplot as plt\n",
    "from sklearn.metrics import classification_report,recall_score, accuracy_score, confusion_matrix, ConfusionMatrixDisplay\n",
    "from sklearn.preprocessing import OneHotEncoder\n",
    "from imblearn.pipeline import Pipeline\n",
    "from sklearn.base import clone\n",
    "from imblearn.over_sampling import SMOTE\n",
    "import numpy as np\n",
    "import joblib\n",
    "from sklearn.model_selection import cross_val_score, StratifiedKFold, GridSearchCV, train_test_split\n",
    "from sklearn.linear_model import LogisticRegression"
   ]
  },
  {
   "cell_type": "code",
   "execution_count": 4,
   "id": "2e746748-f787-4b82-8ebf-2bb49bd2000f",
   "metadata": {},
   "outputs": [],
   "source": [
    "df = pd.read_csv(\"Modeling_4-23.csv\")"
   ]
  },
  {
   "cell_type": "code",
   "execution_count": 6,
   "id": "d63d0170-01dd-49ad-b3e2-d53e08f44767",
   "metadata": {},
   "outputs": [],
   "source": [
    "ohe = OneHotEncoder()\n",
    "df = pd.get_dummies(df, columns=['Degree'], dtype=int)"
   ]
  },
  {
   "cell_type": "code",
   "execution_count": 8,
   "id": "2acf6428-61b3-409c-b0b1-fb7b21dcdd86",
   "metadata": {},
   "outputs": [],
   "source": [
    "X = df.loc[:, df.columns!='Depression']\n",
    "y = df['Depression']"
   ]
  },
  {
   "cell_type": "code",
   "execution_count": 10,
   "id": "cffba836-7f8e-445c-975d-34bb1f11d1da",
   "metadata": {},
   "outputs": [
    {
     "name": "stdout",
     "output_type": "stream",
     "text": [
      "<class 'pandas.core.frame.DataFrame'>\n",
      "RangeIndex: 27845 entries, 0 to 27844\n",
      "Data columns (total 57 columns):\n",
      " #   Column                                     Non-Null Count  Dtype  \n",
      "---  ------                                     --------------  -----  \n",
      " 0   Age                                        27845 non-null  int64  \n",
      " 1   Academic Pressure                          27845 non-null  int64  \n",
      " 2   CGPA                                       27845 non-null  float64\n",
      " 3   Study Satisfaction                         27845 non-null  int64  \n",
      " 4   Work/Study Hours                           27845 non-null  int64  \n",
      " 5   Financial Stress                           27845 non-null  int64  \n",
      " 6   Sleep Duration_encoded                     27845 non-null  int64  \n",
      " 7   Dietary Habits_encoded                     27845 non-null  int64  \n",
      " 8   Depression                                 27845 non-null  int64  \n",
      " 9   Have you ever had suicidal thoughts ?_No   27845 non-null  int64  \n",
      " 10  Have you ever had suicidal thoughts ?_Yes  27845 non-null  int64  \n",
      " 11  Family History of Mental Illness_No        27845 non-null  int64  \n",
      " 12  Family History of Mental Illness_Yes       27845 non-null  int64  \n",
      " 13  Gender_Female                              27845 non-null  int64  \n",
      " 14  Gender_Male                                27845 non-null  int64  \n",
      " 15  State_Andhra Pradesh                       27845 non-null  int64  \n",
      " 16  State_Bihar                                27845 non-null  int64  \n",
      " 17  State_Delhi                                27845 non-null  int64  \n",
      " 18  State_Gujarat                              27845 non-null  int64  \n",
      " 19  State_Haryana                              27845 non-null  int64  \n",
      " 20  State_Jammu and Kashmir                    27845 non-null  int64  \n",
      " 21  State_Karnataka                            27845 non-null  int64  \n",
      " 22  State_Madhya Pradesh                       27845 non-null  int64  \n",
      " 23  State_Maharashtra                          27845 non-null  int64  \n",
      " 24  State_Punjab                               27845 non-null  int64  \n",
      " 25  State_Rajasthan                            27845 non-null  int64  \n",
      " 26  State_Tamil Nadu                           27845 non-null  int64  \n",
      " 27  State_Telangana                            27845 non-null  int64  \n",
      " 28  State_Uttar Pradesh                        27845 non-null  int64  \n",
      " 29  State_West Bengal                          27845 non-null  int64  \n",
      " 30  Degree_'Class 12'                          27845 non-null  int64  \n",
      " 31  Degree_B.Arch                              27845 non-null  int64  \n",
      " 32  Degree_B.Com                               27845 non-null  int64  \n",
      " 33  Degree_B.Ed                                27845 non-null  int64  \n",
      " 34  Degree_B.Pharm                             27845 non-null  int64  \n",
      " 35  Degree_B.Tech                              27845 non-null  int64  \n",
      " 36  Degree_BA                                  27845 non-null  int64  \n",
      " 37  Degree_BBA                                 27845 non-null  int64  \n",
      " 38  Degree_BCA                                 27845 non-null  int64  \n",
      " 39  Degree_BE                                  27845 non-null  int64  \n",
      " 40  Degree_BHM                                 27845 non-null  int64  \n",
      " 41  Degree_BSc                                 27845 non-null  int64  \n",
      " 42  Degree_LLB                                 27845 non-null  int64  \n",
      " 43  Degree_LLM                                 27845 non-null  int64  \n",
      " 44  Degree_M.Com                               27845 non-null  int64  \n",
      " 45  Degree_M.Ed                                27845 non-null  int64  \n",
      " 46  Degree_M.Pharm                             27845 non-null  int64  \n",
      " 47  Degree_M.Tech                              27845 non-null  int64  \n",
      " 48  Degree_MA                                  27845 non-null  int64  \n",
      " 49  Degree_MBA                                 27845 non-null  int64  \n",
      " 50  Degree_MBBS                                27845 non-null  int64  \n",
      " 51  Degree_MCA                                 27845 non-null  int64  \n",
      " 52  Degree_MD                                  27845 non-null  int64  \n",
      " 53  Degree_ME                                  27845 non-null  int64  \n",
      " 54  Degree_MHM                                 27845 non-null  int64  \n",
      " 55  Degree_MSc                                 27845 non-null  int64  \n",
      " 56  Degree_PhD                                 27845 non-null  int64  \n",
      "dtypes: float64(1), int64(56)\n",
      "memory usage: 12.1 MB\n"
     ]
    }
   ],
   "source": [
    "df.info()"
   ]
  },
  {
   "cell_type": "code",
   "execution_count": 12,
   "id": "7c9c9901-6f28-4a82-bdd7-ba89cd4c6297",
   "metadata": {},
   "outputs": [],
   "source": [
    "X_train_LR , X_test_LR , y_train_LR , y_test_LR = train_test_split(X, y, test_size=0.2, random_state=42)"
   ]
  },
  {
   "cell_type": "code",
   "execution_count": 14,
   "id": "0d4d1a58-4504-4917-b957-4d14d602c126",
   "metadata": {},
   "outputs": [],
   "source": [
    "LR = LogisticRegression()"
   ]
  },
  {
   "cell_type": "code",
   "execution_count": 16,
   "id": "4d9e2dce-ba38-4c3d-8c56-7f3eda24f9cc",
   "metadata": {},
   "outputs": [
    {
     "name": "stderr",
     "output_type": "stream",
     "text": [
      "/opt/anaconda3/lib/python3.12/site-packages/sklearn/linear_model/_logistic.py:469: ConvergenceWarning: lbfgs failed to converge (status=1):\n",
      "STOP: TOTAL NO. of ITERATIONS REACHED LIMIT.\n",
      "\n",
      "Increase the number of iterations (max_iter) or scale the data as shown in:\n",
      "    https://scikit-learn.org/stable/modules/preprocessing.html\n",
      "Please also refer to the documentation for alternative solver options:\n",
      "    https://scikit-learn.org/stable/modules/linear_model.html#logistic-regression\n",
      "  n_iter_i = _check_optimize_result(\n"
     ]
    }
   ],
   "source": [
    "LR.fit(X_train_LR, y_train_LR)\n",
    "y_prediction_LR = LR.predict(X_test_LR)"
   ]
  },
  {
   "cell_type": "code",
   "execution_count": 18,
   "id": "91307c53-50a6-40d7-a4c5-6e6bfde2d8a8",
   "metadata": {},
   "outputs": [
    {
     "name": "stdout",
     "output_type": "stream",
     "text": [
      "Logistic Regression\n",
      "              precision    recall  f1-score   support\n",
      "\n",
      "           0       0.84      0.77      0.80      2316\n",
      "           1       0.85      0.89      0.87      3253\n",
      "\n",
      "    accuracy                           0.84      5569\n",
      "   macro avg       0.84      0.83      0.84      5569\n",
      "weighted avg       0.84      0.84      0.84      5569\n",
      "\n"
     ]
    }
   ],
   "source": [
    "print(f\"Logistic Regression\\n{classification_report(y_test_LR, y_prediction_LR)}\")"
   ]
  },
  {
   "cell_type": "markdown",
   "id": "8aaa4b6d-e91a-4356-b6d9-6fd988ada2fa",
   "metadata": {},
   "source": [
    "## GRID SEARCH"
   ]
  },
  {
   "cell_type": "code",
   "execution_count": 23,
   "id": "68b3a87a-6567-4b92-bab3-69012fcaf708",
   "metadata": {
    "scrolled": true
   },
   "outputs": [
    {
     "name": "stderr",
     "output_type": "stream",
     "text": [
      "/opt/anaconda3/lib/python3.12/site-packages/sklearn/linear_model/_logistic.py:469: ConvergenceWarning: lbfgs failed to converge (status=1):\n",
      "STOP: TOTAL NO. of ITERATIONS REACHED LIMIT.\n",
      "\n",
      "Increase the number of iterations (max_iter) or scale the data as shown in:\n",
      "    https://scikit-learn.org/stable/modules/preprocessing.html\n",
      "Please also refer to the documentation for alternative solver options:\n",
      "    https://scikit-learn.org/stable/modules/linear_model.html#logistic-regression\n",
      "  n_iter_i = _check_optimize_result(\n",
      "/opt/anaconda3/lib/python3.12/site-packages/sklearn/linear_model/_logistic.py:469: ConvergenceWarning: lbfgs failed to converge (status=1):\n",
      "STOP: TOTAL NO. of ITERATIONS REACHED LIMIT.\n",
      "\n",
      "Increase the number of iterations (max_iter) or scale the data as shown in:\n",
      "    https://scikit-learn.org/stable/modules/preprocessing.html\n",
      "Please also refer to the documentation for alternative solver options:\n",
      "    https://scikit-learn.org/stable/modules/linear_model.html#logistic-regression\n",
      "  n_iter_i = _check_optimize_result(\n",
      "/opt/anaconda3/lib/python3.12/site-packages/sklearn/linear_model/_logistic.py:469: ConvergenceWarning: lbfgs failed to converge (status=1):\n",
      "STOP: TOTAL NO. of ITERATIONS REACHED LIMIT.\n",
      "\n",
      "Increase the number of iterations (max_iter) or scale the data as shown in:\n",
      "    https://scikit-learn.org/stable/modules/preprocessing.html\n",
      "Please also refer to the documentation for alternative solver options:\n",
      "    https://scikit-learn.org/stable/modules/linear_model.html#logistic-regression\n",
      "  n_iter_i = _check_optimize_result(\n"
     ]
    },
    {
     "name": "stdout",
     "output_type": "stream",
     "text": [
      "Fold Metrics:\n",
      "[0.89340491 0.88305215 0.89378834 0.87921779 0.88611963]\n",
      "\n",
      "Average Score:\n",
      "0.8871165644171779\n",
      "\n"
     ]
    },
    {
     "name": "stderr",
     "output_type": "stream",
     "text": [
      "/opt/anaconda3/lib/python3.12/site-packages/sklearn/linear_model/_logistic.py:469: ConvergenceWarning: lbfgs failed to converge (status=1):\n",
      "STOP: TOTAL NO. of ITERATIONS REACHED LIMIT.\n",
      "\n",
      "Increase the number of iterations (max_iter) or scale the data as shown in:\n",
      "    https://scikit-learn.org/stable/modules/preprocessing.html\n",
      "Please also refer to the documentation for alternative solver options:\n",
      "    https://scikit-learn.org/stable/modules/linear_model.html#logistic-regression\n",
      "  n_iter_i = _check_optimize_result(\n",
      "/opt/anaconda3/lib/python3.12/site-packages/sklearn/linear_model/_logistic.py:469: ConvergenceWarning: lbfgs failed to converge (status=1):\n",
      "STOP: TOTAL NO. of ITERATIONS REACHED LIMIT.\n",
      "\n",
      "Increase the number of iterations (max_iter) or scale the data as shown in:\n",
      "    https://scikit-learn.org/stable/modules/preprocessing.html\n",
      "Please also refer to the documentation for alternative solver options:\n",
      "    https://scikit-learn.org/stable/modules/linear_model.html#logistic-regression\n",
      "  n_iter_i = _check_optimize_result(\n"
     ]
    }
   ],
   "source": [
    "cv = StratifiedKFold(n_splits=5, shuffle=True, random_state=42)\n",
    "\n",
    "best_LR_cv = cross_val_score(LR, X_train_LR, y_train_LR, cv=cv, scoring='recall')\n",
    "print(f\"Fold Metrics:\\n{best_LR_cv}\\n\")\n",
    "print(f\"Average Score:\\n{best_LR_cv.mean()}\\n\")"
   ]
  },
  {
   "cell_type": "code",
   "execution_count": null,
   "id": "38fc9a23-1ed1-43a5-bda6-b71984fbfbdc",
   "metadata": {},
   "outputs": [],
   "source": [
    "from sklearn.metrics import recall_score, confusion_matrix\n",
    "from sklearn.model_selection import StratifiedKFold\n",
    "import numpy as np\n",
    "\n",
    "cv = StratifiedKFold(n_splits=5, shuffle=True, random_state=42)\n",
    "\n",
    "best_recall = 0\n",
    "best_confusion_matrix = None\n",
    "fold_recalls = []\n",
    "\n",
    "for fold, (train_idx, val_idx) in enumerate(cv.split(X_train, y_train), 1):\n",
    "    X_tr, X_val = X_train.iloc[train_idx], X_train.iloc[val_idx]\n",
    "    y_tr, y_val = y_train.iloc[train_idx], y_train.iloc[val_idx]\n",
    "    \n",
    "    model = clone(best_RF)\n",
    "    model.fit(X_tr, y_tr)\n",
    "    \n",
    "    y_pred = model.predict(X_val)\n",
    "    recall = recall_score(y_val, y_pred)\n",
    "    cm = confusion_matrix(y_val, y_pred)\n",
    "    \n",
    "    fold_recalls.append(recall)\n",
    "    \n",
    "    print(f\"Fold {fold} Recall: {recall:.4f}\")\n",
    "    print(f\"Confusion Matrix:\\n{cm}\\n\")\n",
    "    \n",
    "    if recall > best_recall:\n",
    "        best_recall = recall\n",
    "        best_confusion_matrix = cm\n",
    "\n",
    "print(f\"All Fold Recalls: {fold_recalls}\")\n",
    "print(f\"Mean Recall: {np.mean(fold_recalls):.4f}\")\n",
    "print(f\"Best Fold Recall: {best_recall:.4f}\")\n",
    "print(f\"Best Confusion Matrix:\\n{best_confusion_matrix}\")"
   ]
  }
 ],
 "metadata": {
  "kernelspec": {
   "display_name": "Python [conda env:base] *",
   "language": "python",
   "name": "conda-base-py"
  },
  "language_info": {
   "codemirror_mode": {
    "name": "ipython",
    "version": 3
   },
   "file_extension": ".py",
   "mimetype": "text/x-python",
   "name": "python",
   "nbconvert_exporter": "python",
   "pygments_lexer": "ipython3",
   "version": "3.12.7"
  }
 },
 "nbformat": 4,
 "nbformat_minor": 5
}
