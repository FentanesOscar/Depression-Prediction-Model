{
 "cells": [
  {
   "cell_type": "markdown",
   "id": "f62d1a9b",
   "metadata": {},
   "source": [
    "### <u>**Objective:**</u>\n",
    "\n",
    "Build different models and evaluate each one of them using different metrics."
   ]
  },
  {
   "cell_type": "code",
   "execution_count": 1,
   "id": "a7928f32",
   "metadata": {},
   "outputs": [],
   "source": [
    "## import essential libraries\n",
    "\n",
    "import pandas as pd\n",
    "import numpy as np\n",
    "import matplotlib.pyplot as plt\n",
    "from functions_model import *\n",
    "from sklearn.linear_model import LogisticRegression\n",
    "from sklearn.model_selection import train_test_split\n",
    "from sklearn.preprocessing import StandardScaler\n"
   ]
  },
  {
   "cell_type": "code",
   "execution_count": 2,
   "id": "af5ef6f2",
   "metadata": {},
   "outputs": [
    {
     "data": {
      "text/html": [
       "<div>\n",
       "<style scoped>\n",
       "    .dataframe tbody tr th:only-of-type {\n",
       "        vertical-align: middle;\n",
       "    }\n",
       "\n",
       "    .dataframe tbody tr th {\n",
       "        vertical-align: top;\n",
       "    }\n",
       "\n",
       "    .dataframe thead th {\n",
       "        text-align: right;\n",
       "    }\n",
       "</style>\n",
       "<table border=\"1\" class=\"dataframe\">\n",
       "  <thead>\n",
       "    <tr style=\"text-align: right;\">\n",
       "      <th></th>\n",
       "      <th>Gender</th>\n",
       "      <th>Age</th>\n",
       "      <th>Academic Pressure</th>\n",
       "      <th>CGPA</th>\n",
       "      <th>Study Satisfaction</th>\n",
       "      <th>Degree</th>\n",
       "      <th>Have you ever had suicidal thoughts ?</th>\n",
       "      <th>Work/Study Hours</th>\n",
       "      <th>Financial Stress</th>\n",
       "      <th>Family History of Mental Illness</th>\n",
       "      <th>State</th>\n",
       "      <th>Sleep Duration_encoded</th>\n",
       "      <th>Dietary Habits_encoded</th>\n",
       "      <th>Depression</th>\n",
       "    </tr>\n",
       "  </thead>\n",
       "  <tbody>\n",
       "    <tr>\n",
       "      <th>0</th>\n",
       "      <td>Male</td>\n",
       "      <td>33</td>\n",
       "      <td>5</td>\n",
       "      <td>8.97</td>\n",
       "      <td>2</td>\n",
       "      <td>B.Pharm</td>\n",
       "      <td>Yes</td>\n",
       "      <td>3</td>\n",
       "      <td>1</td>\n",
       "      <td>No</td>\n",
       "      <td>Andhra Pradesh</td>\n",
       "      <td>1</td>\n",
       "      <td>2</td>\n",
       "      <td>1</td>\n",
       "    </tr>\n",
       "    <tr>\n",
       "      <th>1</th>\n",
       "      <td>Female</td>\n",
       "      <td>24</td>\n",
       "      <td>2</td>\n",
       "      <td>5.90</td>\n",
       "      <td>5</td>\n",
       "      <td>BSc</td>\n",
       "      <td>No</td>\n",
       "      <td>3</td>\n",
       "      <td>2</td>\n",
       "      <td>Yes</td>\n",
       "      <td>Karnataka</td>\n",
       "      <td>1</td>\n",
       "      <td>1</td>\n",
       "      <td>0</td>\n",
       "    </tr>\n",
       "    <tr>\n",
       "      <th>2</th>\n",
       "      <td>Male</td>\n",
       "      <td>31</td>\n",
       "      <td>3</td>\n",
       "      <td>7.03</td>\n",
       "      <td>5</td>\n",
       "      <td>BA</td>\n",
       "      <td>No</td>\n",
       "      <td>9</td>\n",
       "      <td>1</td>\n",
       "      <td>Yes</td>\n",
       "      <td>Jammu and Kashmir</td>\n",
       "      <td>0</td>\n",
       "      <td>2</td>\n",
       "      <td>0</td>\n",
       "    </tr>\n",
       "    <tr>\n",
       "      <th>3</th>\n",
       "      <td>Female</td>\n",
       "      <td>28</td>\n",
       "      <td>3</td>\n",
       "      <td>5.59</td>\n",
       "      <td>2</td>\n",
       "      <td>BCA</td>\n",
       "      <td>Yes</td>\n",
       "      <td>4</td>\n",
       "      <td>5</td>\n",
       "      <td>Yes</td>\n",
       "      <td>Uttar Pradesh</td>\n",
       "      <td>3</td>\n",
       "      <td>1</td>\n",
       "      <td>1</td>\n",
       "    </tr>\n",
       "    <tr>\n",
       "      <th>4</th>\n",
       "      <td>Female</td>\n",
       "      <td>25</td>\n",
       "      <td>4</td>\n",
       "      <td>8.13</td>\n",
       "      <td>3</td>\n",
       "      <td>M.Tech</td>\n",
       "      <td>Yes</td>\n",
       "      <td>1</td>\n",
       "      <td>1</td>\n",
       "      <td>No</td>\n",
       "      <td>Rajasthan</td>\n",
       "      <td>1</td>\n",
       "      <td>1</td>\n",
       "      <td>0</td>\n",
       "    </tr>\n",
       "  </tbody>\n",
       "</table>\n",
       "</div>"
      ],
      "text/plain": [
       "   Gender  Age  Academic Pressure  CGPA  Study Satisfaction   Degree  \\\n",
       "0    Male   33                  5  8.97                   2  B.Pharm   \n",
       "1  Female   24                  2  5.90                   5      BSc   \n",
       "2    Male   31                  3  7.03                   5       BA   \n",
       "3  Female   28                  3  5.59                   2      BCA   \n",
       "4  Female   25                  4  8.13                   3   M.Tech   \n",
       "\n",
       "  Have you ever had suicidal thoughts ?  Work/Study Hours  Financial Stress  \\\n",
       "0                                   Yes                 3                 1   \n",
       "1                                    No                 3                 2   \n",
       "2                                    No                 9                 1   \n",
       "3                                   Yes                 4                 5   \n",
       "4                                   Yes                 1                 1   \n",
       "\n",
       "  Family History of Mental Illness              State  Sleep Duration_encoded  \\\n",
       "0                               No     Andhra Pradesh                       1   \n",
       "1                              Yes          Karnataka                       1   \n",
       "2                              Yes  Jammu and Kashmir                       0   \n",
       "3                              Yes      Uttar Pradesh                       3   \n",
       "4                               No          Rajasthan                       1   \n",
       "\n",
       "   Dietary Habits_encoded  Depression  \n",
       "0                       2           1  \n",
       "1                       1           0  \n",
       "2                       2           0  \n",
       "3                       1           1  \n",
       "4                       1           0  "
      ]
     },
     "execution_count": 2,
     "metadata": {},
     "output_type": "execute_result"
    }
   ],
   "source": [
    "## Reading and printing csv file\n",
    "df = pd.read_csv(\"FileModel.csv\")\n",
    "df.head()"
   ]
  },
  {
   "cell_type": "code",
   "execution_count": 3,
   "id": "cac572a7",
   "metadata": {},
   "outputs": [
    {
     "name": "stdout",
     "output_type": "stream",
     "text": [
      "Gender                                    object\n",
      "Age                                        int64\n",
      "Academic Pressure                          int64\n",
      "CGPA                                     float64\n",
      "Study Satisfaction                         int64\n",
      "Degree                                    object\n",
      "Have you ever had suicidal thoughts ?     object\n",
      "Work/Study Hours                           int64\n",
      "Financial Stress                           int64\n",
      "Family History of Mental Illness          object\n",
      "State                                     object\n",
      "Sleep Duration_encoded                     int64\n",
      "Dietary Habits_encoded                     int64\n",
      "Depression                                 int64\n",
      "dtype: object\n"
     ]
    }
   ],
   "source": [
    "print(df.dtypes)"
   ]
  },
  {
   "cell_type": "markdown",
   "id": "17b9ef2a",
   "metadata": {},
   "source": [
    "### <u>**One Hot Encoding Columns**</u>"
   ]
  },
  {
   "cell_type": "markdown",
   "id": "855078e3",
   "metadata": {},
   "source": [
    "Columns need to be one hot encoded.\n",
    "\n",
    "- Gender\n",
    "- Degree\n",
    "- Have you ever had suicidal thoughts\n",
    "- Family History of Mental Illness\n",
    "- State"
   ]
  },
  {
   "cell_type": "code",
   "execution_count": 4,
   "id": "238a1b72",
   "metadata": {},
   "outputs": [
    {
     "data": {
      "text/html": [
       "<div>\n",
       "<style scoped>\n",
       "    .dataframe tbody tr th:only-of-type {\n",
       "        vertical-align: middle;\n",
       "    }\n",
       "\n",
       "    .dataframe tbody tr th {\n",
       "        vertical-align: top;\n",
       "    }\n",
       "\n",
       "    .dataframe thead th {\n",
       "        text-align: right;\n",
       "    }\n",
       "</style>\n",
       "<table border=\"1\" class=\"dataframe\">\n",
       "  <thead>\n",
       "    <tr style=\"text-align: right;\">\n",
       "      <th></th>\n",
       "      <th>Age</th>\n",
       "      <th>Academic Pressure</th>\n",
       "      <th>CGPA</th>\n",
       "      <th>Study Satisfaction</th>\n",
       "      <th>Work/Study Hours</th>\n",
       "      <th>Financial Stress</th>\n",
       "      <th>Sleep Duration_encoded</th>\n",
       "      <th>Dietary Habits_encoded</th>\n",
       "      <th>Depression</th>\n",
       "      <th>Gender_Female</th>\n",
       "      <th>...</th>\n",
       "      <th>State_Jammu and Kashmir</th>\n",
       "      <th>State_Karnataka</th>\n",
       "      <th>State_Madhya Pradesh</th>\n",
       "      <th>State_Maharashtra</th>\n",
       "      <th>State_Punjab</th>\n",
       "      <th>State_Rajasthan</th>\n",
       "      <th>State_Tamil Nadu</th>\n",
       "      <th>State_Telangana</th>\n",
       "      <th>State_Uttar Pradesh</th>\n",
       "      <th>State_West Bengal</th>\n",
       "    </tr>\n",
       "  </thead>\n",
       "  <tbody>\n",
       "    <tr>\n",
       "      <th>0</th>\n",
       "      <td>33</td>\n",
       "      <td>5</td>\n",
       "      <td>8.97</td>\n",
       "      <td>2</td>\n",
       "      <td>3</td>\n",
       "      <td>1</td>\n",
       "      <td>1</td>\n",
       "      <td>2</td>\n",
       "      <td>1</td>\n",
       "      <td>0</td>\n",
       "      <td>...</td>\n",
       "      <td>0</td>\n",
       "      <td>0</td>\n",
       "      <td>0</td>\n",
       "      <td>0</td>\n",
       "      <td>0</td>\n",
       "      <td>0</td>\n",
       "      <td>0</td>\n",
       "      <td>0</td>\n",
       "      <td>0</td>\n",
       "      <td>0</td>\n",
       "    </tr>\n",
       "    <tr>\n",
       "      <th>1</th>\n",
       "      <td>24</td>\n",
       "      <td>2</td>\n",
       "      <td>5.90</td>\n",
       "      <td>5</td>\n",
       "      <td>3</td>\n",
       "      <td>2</td>\n",
       "      <td>1</td>\n",
       "      <td>1</td>\n",
       "      <td>0</td>\n",
       "      <td>1</td>\n",
       "      <td>...</td>\n",
       "      <td>0</td>\n",
       "      <td>1</td>\n",
       "      <td>0</td>\n",
       "      <td>0</td>\n",
       "      <td>0</td>\n",
       "      <td>0</td>\n",
       "      <td>0</td>\n",
       "      <td>0</td>\n",
       "      <td>0</td>\n",
       "      <td>0</td>\n",
       "    </tr>\n",
       "    <tr>\n",
       "      <th>2</th>\n",
       "      <td>31</td>\n",
       "      <td>3</td>\n",
       "      <td>7.03</td>\n",
       "      <td>5</td>\n",
       "      <td>9</td>\n",
       "      <td>1</td>\n",
       "      <td>0</td>\n",
       "      <td>2</td>\n",
       "      <td>0</td>\n",
       "      <td>0</td>\n",
       "      <td>...</td>\n",
       "      <td>1</td>\n",
       "      <td>0</td>\n",
       "      <td>0</td>\n",
       "      <td>0</td>\n",
       "      <td>0</td>\n",
       "      <td>0</td>\n",
       "      <td>0</td>\n",
       "      <td>0</td>\n",
       "      <td>0</td>\n",
       "      <td>0</td>\n",
       "    </tr>\n",
       "    <tr>\n",
       "      <th>3</th>\n",
       "      <td>28</td>\n",
       "      <td>3</td>\n",
       "      <td>5.59</td>\n",
       "      <td>2</td>\n",
       "      <td>4</td>\n",
       "      <td>5</td>\n",
       "      <td>3</td>\n",
       "      <td>1</td>\n",
       "      <td>1</td>\n",
       "      <td>1</td>\n",
       "      <td>...</td>\n",
       "      <td>0</td>\n",
       "      <td>0</td>\n",
       "      <td>0</td>\n",
       "      <td>0</td>\n",
       "      <td>0</td>\n",
       "      <td>0</td>\n",
       "      <td>0</td>\n",
       "      <td>0</td>\n",
       "      <td>1</td>\n",
       "      <td>0</td>\n",
       "    </tr>\n",
       "    <tr>\n",
       "      <th>4</th>\n",
       "      <td>25</td>\n",
       "      <td>4</td>\n",
       "      <td>8.13</td>\n",
       "      <td>3</td>\n",
       "      <td>1</td>\n",
       "      <td>1</td>\n",
       "      <td>1</td>\n",
       "      <td>1</td>\n",
       "      <td>0</td>\n",
       "      <td>1</td>\n",
       "      <td>...</td>\n",
       "      <td>0</td>\n",
       "      <td>0</td>\n",
       "      <td>0</td>\n",
       "      <td>0</td>\n",
       "      <td>0</td>\n",
       "      <td>1</td>\n",
       "      <td>0</td>\n",
       "      <td>0</td>\n",
       "      <td>0</td>\n",
       "      <td>0</td>\n",
       "    </tr>\n",
       "  </tbody>\n",
       "</table>\n",
       "<p>5 rows × 57 columns</p>\n",
       "</div>"
      ],
      "text/plain": [
       "   Age  Academic Pressure  CGPA  Study Satisfaction  Work/Study Hours  \\\n",
       "0   33                  5  8.97                   2                 3   \n",
       "1   24                  2  5.90                   5                 3   \n",
       "2   31                  3  7.03                   5                 9   \n",
       "3   28                  3  5.59                   2                 4   \n",
       "4   25                  4  8.13                   3                 1   \n",
       "\n",
       "   Financial Stress  Sleep Duration_encoded  Dietary Habits_encoded  \\\n",
       "0                 1                       1                       2   \n",
       "1                 2                       1                       1   \n",
       "2                 1                       0                       2   \n",
       "3                 5                       3                       1   \n",
       "4                 1                       1                       1   \n",
       "\n",
       "   Depression  Gender_Female  ...  State_Jammu and Kashmir  State_Karnataka  \\\n",
       "0           1              0  ...                        0                0   \n",
       "1           0              1  ...                        0                1   \n",
       "2           0              0  ...                        1                0   \n",
       "3           1              1  ...                        0                0   \n",
       "4           0              1  ...                        0                0   \n",
       "\n",
       "   State_Madhya Pradesh  State_Maharashtra  State_Punjab  State_Rajasthan  \\\n",
       "0                     0                  0             0                0   \n",
       "1                     0                  0             0                0   \n",
       "2                     0                  0             0                0   \n",
       "3                     0                  0             0                0   \n",
       "4                     0                  0             0                1   \n",
       "\n",
       "   State_Tamil Nadu  State_Telangana  State_Uttar Pradesh  State_West Bengal  \n",
       "0                 0                0                    0                  0  \n",
       "1                 0                0                    0                  0  \n",
       "2                 0                0                    0                  0  \n",
       "3                 0                0                    1                  0  \n",
       "4                 0                0                    0                  0  \n",
       "\n",
       "[5 rows x 57 columns]"
      ]
     },
     "execution_count": 4,
     "metadata": {},
     "output_type": "execute_result"
    }
   ],
   "source": [
    "df = one_hot_encode_column(df, 'Gender')\n",
    "df = one_hot_encode_column(df, 'Degree')\n",
    "df = one_hot_encode_column(df, 'Have you ever had suicidal thoughts ?')\n",
    "df = one_hot_encode_column(df, 'Family History of Mental Illness')\n",
    "df = one_hot_encode_column(df, 'State')\n",
    "\n",
    "df.head()"
   ]
  },
  {
   "cell_type": "code",
   "execution_count": null,
   "id": "4a05ff1f",
   "metadata": {},
   "outputs": [
    {
     "name": "stdout",
     "output_type": "stream",
     "text": [
      "Age                                            int64\n",
      "Academic Pressure                              int64\n",
      "CGPA                                         float64\n",
      "Study Satisfaction                             int64\n",
      "Work/Study Hours                               int64\n",
      "Financial Stress                               int64\n",
      "Sleep Duration_encoded                         int64\n",
      "Dietary Habits_encoded                         int64\n",
      "Depression                                     int64\n",
      "Gender_Female                                  int64\n",
      "Gender_Male                                    int64\n",
      "Degree_'Class 12'                              int64\n",
      "Degree_B.Arch                                  int64\n",
      "Degree_B.Com                                   int64\n",
      "Degree_B.Ed                                    int64\n",
      "Degree_B.Pharm                                 int64\n",
      "Degree_B.Tech                                  int64\n",
      "Degree_BA                                      int64\n",
      "Degree_BBA                                     int64\n",
      "Degree_BCA                                     int64\n",
      "Degree_BE                                      int64\n",
      "Degree_BHM                                     int64\n",
      "Degree_BSc                                     int64\n",
      "Degree_LLB                                     int64\n",
      "Degree_LLM                                     int64\n",
      "Degree_M.Com                                   int64\n",
      "Degree_M.Ed                                    int64\n",
      "Degree_M.Pharm                                 int64\n",
      "Degree_M.Tech                                  int64\n",
      "Degree_MA                                      int64\n",
      "Degree_MBA                                     int64\n",
      "Degree_MBBS                                    int64\n",
      "Degree_MCA                                     int64\n",
      "Degree_MD                                      int64\n",
      "Degree_ME                                      int64\n",
      "Degree_MHM                                     int64\n",
      "Degree_MSc                                     int64\n",
      "Degree_PhD                                     int64\n",
      "Have you ever had suicidal thoughts ?_No       int64\n",
      "Have you ever had suicidal thoughts ?_Yes      int64\n",
      "Family History of Mental Illness_No            int64\n",
      "Family History of Mental Illness_Yes           int64\n",
      "State_Andhra Pradesh                           int64\n",
      "State_Bihar                                    int64\n",
      "State_Delhi                                    int64\n",
      "State_Gujarat                                  int64\n",
      "State_Haryana                                  int64\n",
      "State_Jammu and Kashmir                        int64\n",
      "State_Karnataka                                int64\n",
      "State_Madhya Pradesh                           int64\n",
      "State_Maharashtra                              int64\n",
      "State_Punjab                                   int64\n",
      "State_Rajasthan                                int64\n",
      "State_Tamil Nadu                               int64\n",
      "State_Telangana                                int64\n",
      "State_Uttar Pradesh                            int64\n",
      "State_West Bengal                              int64\n",
      "dtype: object\n"
     ]
    }
   ],
   "source": [
    "## checking all the datatypes after one hot encoding\n",
    "print(df.dtypes)"
   ]
  },
  {
   "cell_type": "markdown",
   "id": "ca7b5121",
   "metadata": {},
   "source": [
    "### <u>**Models to be used:**</u>\n",
    "\n",
    "- Logistic Regression\n",
    "- Decision Tree\n",
    "- Random Forest\n",
    "- SVM"
   ]
  },
  {
   "cell_type": "markdown",
   "id": "e4caa2f1",
   "metadata": {},
   "source": [
    "### Baseline Model\n",
    "\n",
    "Constructing a baseline model, using Logistic Regression because we have binary target variable."
   ]
  },
  {
   "cell_type": "markdown",
   "id": "32817ef5",
   "metadata": {},
   "source": [
    "### <u>**Logistic Regression**</u>"
   ]
  },
  {
   "cell_type": "code",
   "execution_count": 6,
   "id": "eeb6df7a",
   "metadata": {},
   "outputs": [
    {
     "data": {
      "text/html": [
       "\n",
       "    <table border=\"1\" style=\"border-collapse: collapse; text-align: center;\">\n",
       "        <tr>\n",
       "            <th>Metric</th>\n",
       "            <th>Value</th>\n",
       "        </tr>\n",
       "        <tr><td>Accuracy</td><td>0.8432</td></tr>\n",
       "        <tr><td>Precision</td><td>0.8469</td></tr>\n",
       "        <tr><td>Recall</td><td>0.8930</td></tr>\n",
       "        <tr><td>F1 Score</td><td>0.8694</td></tr>\n",
       "    </table>\n",
       "    "
      ],
      "text/plain": [
       "<IPython.core.display.HTML object>"
      ]
     },
     "metadata": {},
     "output_type": "display_data"
    },
    {
     "name": "stdout",
     "output_type": "stream",
     "text": [
      "              precision    recall  f1-score   support\n",
      "\n",
      "           0       0.84      0.77      0.80      2316\n",
      "           1       0.85      0.89      0.87      3253\n",
      "\n",
      "    accuracy                           0.84      5569\n",
      "   macro avg       0.84      0.83      0.84      5569\n",
      "weighted avg       0.84      0.84      0.84      5569\n",
      "\n"
     ]
    },
    {
     "data": {
      "image/png": "[encoded data removed]",
      "text/plain": [
       "<Figure size 640x480 with 2 Axes>"
      ]
     },
     "metadata": {},
     "output_type": "display_data"
    }
   ],
   "source": [
    "X = df.drop(\"Depression\", axis=1)\n",
    "y = df[\"Depression\"]\n",
    "X_train, X_test, y_train, y_test = train_test_split(X, y, test_size=0.2, random_state= 42)\n",
    "scaler = StandardScaler()\n",
    "X_train_scaled = scaler.fit_transform(X_train)\n",
    "X_test_scaled = scaler.transform(X_test)\n",
    "model1 = LogisticRegression()\n",
    "\n",
    "model_evaulate(model1, X_train_scaled, y_train, X_test_scaled, y_test)\n",
    "\n"
   ]
  },
  {
   "cell_type": "markdown",
   "id": "acd6e4a9",
   "metadata": {},
   "source": [
    "### <u>**Decision Tree**</u>"
   ]
  },
  {
   "cell_type": "code",
   "execution_count": 7,
   "id": "07bbf494",
   "metadata": {},
   "outputs": [],
   "source": [
    "from sklearn.tree import DecisionTreeClassifier"
   ]
  },
  {
   "cell_type": "code",
   "execution_count": 8,
   "id": "edc1b1ef",
   "metadata": {},
   "outputs": [
    {
     "data": {
      "text/html": [
       "\n",
       "    <table border=\"1\" style=\"border-collapse: collapse; text-align: center;\">\n",
       "        <tr>\n",
       "            <th>Metric</th>\n",
       "            <th>Value</th>\n",
       "        </tr>\n",
       "        <tr><td>Accuracy</td><td>0.7716</td></tr>\n",
       "        <tr><td>Precision</td><td>0.8015</td></tr>\n",
       "        <tr><td>Recall</td><td>0.8094</td></tr>\n",
       "        <tr><td>F1 Score</td><td>0.8054</td></tr>\n",
       "    </table>\n",
       "    "
      ],
      "text/plain": [
       "<IPython.core.display.HTML object>"
      ]
     },
     "metadata": {},
     "output_type": "display_data"
    },
    {
     "name": "stdout",
     "output_type": "stream",
     "text": [
      "              precision    recall  f1-score   support\n",
      "\n",
      "           0       0.73      0.72      0.72      2316\n",
      "           1       0.80      0.81      0.81      3253\n",
      "\n",
      "    accuracy                           0.77      5569\n",
      "   macro avg       0.77      0.76      0.76      5569\n",
      "weighted avg       0.77      0.77      0.77      5569\n",
      "\n"
     ]
    },
    {
     "data": {
      "image/png": "[encoded data removed]",
      "text/plain": [
       "<Figure size 640x480 with 2 Axes>"
      ]
     },
     "metadata": {},
     "output_type": "display_data"
    }
   ],
   "source": [
    "model2 = DecisionTreeClassifier(criterion= 'gini', random_state=42)\n",
    "model_evaulate(model2, X_train, y_train, X_test, y_test)"
   ]
  },
  {
   "cell_type": "markdown",
   "id": "4dbab7ca",
   "metadata": {},
   "source": [
    "### <u>**Random Forest**</u>"
   ]
  },
  {
   "cell_type": "code",
   "execution_count": 9,
   "id": "b058d0b6",
   "metadata": {},
   "outputs": [
    {
     "data": {
      "text/html": [
       "\n",
       "    <table border=\"1\" style=\"border-collapse: collapse; text-align: center;\">\n",
       "        <tr>\n",
       "            <th>Metric</th>\n",
       "            <th>Value</th>\n",
       "        </tr>\n",
       "        <tr><td>Accuracy</td><td>0.8438</td></tr>\n",
       "        <tr><td>Precision</td><td>0.8485</td></tr>\n",
       "        <tr><td>Recall</td><td>0.8918</td></tr>\n",
       "        <tr><td>F1 Score</td><td>0.8696</td></tr>\n",
       "    </table>\n",
       "    "
      ],
      "text/plain": [
       "<IPython.core.display.HTML object>"
      ]
     },
     "metadata": {},
     "output_type": "display_data"
    },
    {
     "name": "stdout",
     "output_type": "stream",
     "text": [
      "              precision    recall  f1-score   support\n",
      "\n",
      "           0       0.84      0.78      0.81      2316\n",
      "           1       0.85      0.89      0.87      3253\n",
      "\n",
      "    accuracy                           0.84      5569\n",
      "   macro avg       0.84      0.83      0.84      5569\n",
      "weighted avg       0.84      0.84      0.84      5569\n",
      "\n"
     ]
    },
    {
     "data": {
      "image/png": "[encoded data removed]",
      "text/plain": [
       "<Figure size 640x480 with 2 Axes>"
      ]
     },
     "metadata": {},
     "output_type": "display_data"
    }
   ],
   "source": [
    "from sklearn.ensemble import RandomForestClassifier\n",
    "model3 = RandomForestClassifier(random_state=42)\n",
    "model_evaulate(model3, X_train, y_train, X_test, y_test)"
   ]
  },
  {
   "cell_type": "markdown",
   "id": "18b6b96f",
   "metadata": {},
   "source": [
    "### **Hyperparameter Tuning for Random Forest**"
   ]
  },
  {
   "cell_type": "code",
   "execution_count": null,
   "id": "6c46811a",
   "metadata": {},
   "outputs": [],
   "source": [
    "\n",
    "\n",
    "RFC = RandomForestClassifier()\n",
    "\n",
    "params = {\n",
    "    'n_estimators': [100, 300],\n",
    "    'max_depth': [None, 20, 30],\n",
    "    'min_samples_split': [2, 5],\n",
    "    'min_samples_leaf': [1, 4],\n",
    "    'max_features': ['sqrt', 0.8],\n",
    "    'bootstrap': [True],\n",
    "    'class_weight': ['balanced'],\n",
    "    'criterion': ['gini', 'entropy']\n",
    "}\n",
    " \n",
    " ## Using GridSearch\n",
    "grid_search = GridSearchCV(\n",
    "    estimator=RFC,\n",
    "    param_grid=params,\n",
    "    cv=5,\n",
    "    scoring='recall',   \n",
    "    n_jobs=-1,\n",
    "    verbose=2\n",
    ")\n",
    "\n",
    "\n"
   ]
  },
  {
   "cell_type": "markdown",
   "id": "78837cc1",
   "metadata": {},
   "source": [
    "Finding the best model using best.estimator_ function\n",
    "\n",
    "- Note: Uncomment the line below to see the best hyperparameters"
   ]
  },
  {
   "cell_type": "code",
   "execution_count": 12,
   "id": "bb49bab3",
   "metadata": {},
   "outputs": [],
   "source": [
    "##model_evaulate(grid_search, X_train, y_train, X_test, y_test)"
   ]
  },
  {
   "cell_type": "markdown",
   "id": "74451d66",
   "metadata": {},
   "source": [
    "### <u>**Cross Validation:**</u>\n",
    "\n",
    "Cross Validating the data. Trying to improve recall."
   ]
  },
  {
   "cell_type": "code",
   "execution_count": null,
   "id": "825013fd",
   "metadata": {},
   "outputs": [
    {
     "name": "stdout",
     "output_type": "stream",
     "text": [
      "Fold Metrics:\n",
      "[0.88995399 0.88113497 0.89033742 0.87423313 0.88190184]\n",
      "\n",
      "Average Score:\n",
      "0.8835122699386504\n",
      "\n"
     ]
    }
   ],
   "source": [
    "\n",
    "from sklearn.model_selection import StratifiedKFold, cross_val_score\n",
    "cv = StratifiedKFold(n_splits=5, shuffle=True, random_state=42)\n",
    "RF = RandomForestClassifier(class_weight='balanced', max_depth=30, n_estimators=300)\n",
    "best_RF_cv = cross_val_score(RF, X_train, y_train, cv=cv, scoring='recall')             ## using recall \n",
    "print(f\"Fold Metrics:\\n{best_RF_cv}\\n\")\n",
    "print(f\"Average Score:\\n{best_RF_cv.mean()}\\n\")                                         ## Average Score of Recall\n"
   ]
  },
  {
   "cell_type": "code",
   "execution_count": null,
   "id": "0a3ef931",
   "metadata": {},
   "outputs": [
    {
     "name": "stdout",
     "output_type": "stream",
     "text": [
      "\n",
      " Fold 1 Recall: 0.8776\n",
      "Confusion Matrix:\n",
      "[[1853  457]\n",
      " [ 399 2860]]\n"
     ]
    },
    {
     "data": {
      "text/html": [
       "\n",
       "    <table border=\"1\" style=\"border-collapse: collapse; text-align: center;\">\n",
       "        <tr>\n",
       "            <th>Metric</th>\n",
       "            <th>Value</th>\n",
       "        </tr>\n",
       "        <tr><td>Accuracy</td><td>0.8463</td></tr>\n",
       "        <tr><td>Precision</td><td>0.8622</td></tr>\n",
       "        <tr><td>Recall</td><td>0.8776</td></tr>\n",
       "        <tr><td>F1 Score</td><td>0.8698</td></tr>\n",
       "    </table>\n",
       "    "
      ],
      "text/plain": [
       "<IPython.core.display.HTML object>"
      ]
     },
     "metadata": {},
     "output_type": "display_data"
    },
    {
     "name": "stdout",
     "output_type": "stream",
     "text": [
      "              precision    recall  f1-score   support\n",
      "\n",
      "           0       0.82      0.80      0.81      2310\n",
      "           1       0.86      0.88      0.87      3259\n",
      "\n",
      "    accuracy                           0.85      5569\n",
      "   macro avg       0.84      0.84      0.84      5569\n",
      "weighted avg       0.85      0.85      0.85      5569\n",
      "\n"
     ]
    },
    {
     "data": {
      "image/png": "[encoded data removed]",
      "text/plain": [
       "<Figure size 640x480 with 2 Axes>"
      ]
     },
     "metadata": {},
     "output_type": "display_data"
    },
    {
     "name": "stdout",
     "output_type": "stream",
     "text": [
      "\n",
      " Fold 2 Recall: 0.8825\n",
      "Confusion Matrix:\n",
      "[[1818  492]\n",
      " [ 383 2876]]\n"
     ]
    },
    {
     "data": {
      "text/html": [
       "\n",
       "    <table border=\"1\" style=\"border-collapse: collapse; text-align: center;\">\n",
       "        <tr>\n",
       "            <th>Metric</th>\n",
       "            <th>Value</th>\n",
       "        </tr>\n",
       "        <tr><td>Accuracy</td><td>0.8429</td></tr>\n",
       "        <tr><td>Precision</td><td>0.8539</td></tr>\n",
       "        <tr><td>Recall</td><td>0.8825</td></tr>\n",
       "        <tr><td>F1 Score</td><td>0.8680</td></tr>\n",
       "    </table>\n",
       "    "
      ],
      "text/plain": [
       "<IPython.core.display.HTML object>"
      ]
     },
     "metadata": {},
     "output_type": "display_data"
    },
    {
     "name": "stdout",
     "output_type": "stream",
     "text": [
      "              precision    recall  f1-score   support\n",
      "\n",
      "           0       0.83      0.79      0.81      2310\n",
      "           1       0.85      0.88      0.87      3259\n",
      "\n",
      "    accuracy                           0.84      5569\n",
      "   macro avg       0.84      0.83      0.84      5569\n",
      "weighted avg       0.84      0.84      0.84      5569\n",
      "\n"
     ]
    },
    {
     "data": {
      "image/png": "[encoded data removed]",
      "text/plain": [
       "<Figure size 640x480 with 2 Axes>"
      ]
     },
     "metadata": {},
     "output_type": "display_data"
    },
    {
     "name": "stdout",
     "output_type": "stream",
     "text": [
      "\n",
      " Fold 3 Recall: 0.8699\n",
      "Confusion Matrix:\n",
      "[[1808  502]\n",
      " [ 424 2835]]\n"
     ]
    },
    {
     "data": {
      "text/html": [
       "\n",
       "    <table border=\"1\" style=\"border-collapse: collapse; text-align: center;\">\n",
       "        <tr>\n",
       "            <th>Metric</th>\n",
       "            <th>Value</th>\n",
       "        </tr>\n",
       "        <tr><td>Accuracy</td><td>0.8337</td></tr>\n",
       "        <tr><td>Precision</td><td>0.8496</td></tr>\n",
       "        <tr><td>Recall</td><td>0.8699</td></tr>\n",
       "        <tr><td>F1 Score</td><td>0.8596</td></tr>\n",
       "    </table>\n",
       "    "
      ],
      "text/plain": [
       "<IPython.core.display.HTML object>"
      ]
     },
     "metadata": {},
     "output_type": "display_data"
    },
    {
     "name": "stdout",
     "output_type": "stream",
     "text": [
      "              precision    recall  f1-score   support\n",
      "\n",
      "           0       0.81      0.78      0.80      2310\n",
      "           1       0.85      0.87      0.86      3259\n",
      "\n",
      "    accuracy                           0.83      5569\n",
      "   macro avg       0.83      0.83      0.83      5569\n",
      "weighted avg       0.83      0.83      0.83      5569\n",
      "\n"
     ]
    },
    {
     "data": {
      "image/png": "[encoded data removed]",
      "text/plain": [
       "<Figure size 640x480 with 2 Axes>"
      ]
     },
     "metadata": {},
     "output_type": "display_data"
    },
    {
     "name": "stdout",
     "output_type": "stream",
     "text": [
      "\n",
      " Fold 4 Recall: 0.8864\n",
      "Confusion Matrix:\n",
      "[[1808  503]\n",
      " [ 370 2888]]\n"
     ]
    },
    {
     "data": {
      "text/html": [
       "\n",
       "    <table border=\"1\" style=\"border-collapse: collapse; text-align: center;\">\n",
       "        <tr>\n",
       "            <th>Metric</th>\n",
       "            <th>Value</th>\n",
       "        </tr>\n",
       "        <tr><td>Accuracy</td><td>0.8432</td></tr>\n",
       "        <tr><td>Precision</td><td>0.8517</td></tr>\n",
       "        <tr><td>Recall</td><td>0.8864</td></tr>\n",
       "        <tr><td>F1 Score</td><td>0.8687</td></tr>\n",
       "    </table>\n",
       "    "
      ],
      "text/plain": [
       "<IPython.core.display.HTML object>"
      ]
     },
     "metadata": {},
     "output_type": "display_data"
    },
    {
     "name": "stdout",
     "output_type": "stream",
     "text": [
      "              precision    recall  f1-score   support\n",
      "\n",
      "           0       0.83      0.78      0.81      2311\n",
      "           1       0.85      0.89      0.87      3258\n",
      "\n",
      "    accuracy                           0.84      5569\n",
      "   macro avg       0.84      0.83      0.84      5569\n",
      "weighted avg       0.84      0.84      0.84      5569\n",
      "\n"
     ]
    },
    {
     "data": {
      "image/png": "[encoded data removed]",
      "text/plain": [
       "<Figure size 640x480 with 2 Axes>"
      ]
     },
     "metadata": {},
     "output_type": "display_data"
    },
    {
     "name": "stdout",
     "output_type": "stream",
     "text": [
      "\n",
      " Fold 5 Recall: 0.8849\n",
      "Confusion Matrix:\n",
      "[[1814  497]\n",
      " [ 375 2883]]\n"
     ]
    },
    {
     "data": {
      "text/html": [
       "\n",
       "    <table border=\"1\" style=\"border-collapse: collapse; text-align: center;\">\n",
       "        <tr>\n",
       "            <th>Metric</th>\n",
       "            <th>Value</th>\n",
       "        </tr>\n",
       "        <tr><td>Accuracy</td><td>0.8434</td></tr>\n",
       "        <tr><td>Precision</td><td>0.8530</td></tr>\n",
       "        <tr><td>Recall</td><td>0.8849</td></tr>\n",
       "        <tr><td>F1 Score</td><td>0.8686</td></tr>\n",
       "    </table>\n",
       "    "
      ],
      "text/plain": [
       "<IPython.core.display.HTML object>"
      ]
     },
     "metadata": {},
     "output_type": "display_data"
    },
    {
     "name": "stdout",
     "output_type": "stream",
     "text": [
      "              precision    recall  f1-score   support\n",
      "\n",
      "           0       0.83      0.78      0.81      2311\n",
      "           1       0.85      0.88      0.87      3258\n",
      "\n",
      "    accuracy                           0.84      5569\n",
      "   macro avg       0.84      0.83      0.84      5569\n",
      "weighted avg       0.84      0.84      0.84      5569\n",
      "\n"
     ]
    },
    {
     "data": {
      "image/png": "[encoded data removed]",
      "text/plain": [
       "<Figure size 640x480 with 2 Axes>"
      ]
     },
     "metadata": {},
     "output_type": "display_data"
    },
    {
     "name": "stdout",
     "output_type": "stream",
     "text": [
      "\n",
      " Cross-Validation Summary\n",
      "All Fold Recalls: [0.8775698066891685, 0.8824792881251918, 0.869898741945382, 0.8864333947206875, 0.8848987108655617]\n",
      "Mean Recall: 0.8803\n",
      "Best Fold Recall: 0.8864\n",
      "Best Confusion Matrix:\n",
      "[[1808  503]\n",
      " [ 370 2888]]\n"
     ]
    }
   ],
   "source": [
    "## Printing each iteration, since the dataset was split into 5 parts\n",
    "crossval_evaluate(RF, X, y)"
   ]
  }
 ],
 "metadata": {
  "kernelspec": {
   "display_name": "base",
   "language": "python",
   "name": "python3"
  },
  "language_info": {
   "codemirror_mode": {
    "name": "ipython",
    "version": 3
   },
   "file_extension": ".py",
   "mimetype": "text/x-python",
   "name": "python",
   "nbconvert_exporter": "python",
   "pygments_lexer": "ipython3",
   "version": "3.12.3"
  }
 },
 "nbformat": 4,
 "nbformat_minor": 5
}
